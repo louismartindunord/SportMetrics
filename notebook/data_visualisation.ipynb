{
 "cells": [
  {
   "cell_type": "code",
   "execution_count": 4,
   "metadata": {},
   "outputs": [],
   "source": [
    "import pandas as pd \n",
    "import numpy as np \n",
    "import psycopg2\n",
    "import os \n",
    "from dotenv import load_dotenv\n",
    "import seaborn as sns \n",
    "from datetime import datetime, timedelta\n",
    "import matplotlib.pyplot as plt"
   ]
  },
  {
   "cell_type": "code",
   "execution_count": 5,
   "metadata": {},
   "outputs": [],
   "source": [
    "def create_connection():\n",
    "    load_dotenv()\n",
    "    DATABASE = os.getenv(\"DATABASE\")\n",
    "    HOST = os.getenv(\"HOST\")\n",
    "    USER = os.getenv(\"USER\")\n",
    "    PASSWORD = os.getenv(\"PASSWORD\")\n",
    "    PORT = os.getenv(\"PORT\")\n",
    "    connection = psycopg2.connect(\n",
    "        host=HOST, database=DATABASE, user=USER, password=PASSWORD\n",
    "    )\n",
    "    return connection"
   ]
  },
  {
   "cell_type": "code",
   "execution_count": 6,
   "metadata": {},
   "outputs": [],
   "source": [
    "USER_ID = 19"
   ]
  },
  {
   "cell_type": "markdown",
   "metadata": {},
   "source": [
    "## Extraction des données liés aux sport_rows"
   ]
  },
  {
   "cell_type": "code",
   "execution_count": 8,
   "metadata": {},
   "outputs": [],
   "source": [
    "sql =   \"\"\"\n",
    "            -- Usefull to get all the data for the data visualisation \n",
    "\n",
    "SELECT \n",
    "    sport_rows.date_seance,\n",
    "    sport_rows.sport, \n",
    "    sport_rows.exercice, \n",
    "    sport_rows.duree,\n",
    "    NULL AS seance, \n",
    "    NULL AS poid,\n",
    "    NULL AS nombre_repetition\n",
    "FROM \n",
    "    sport_rows\n",
    "WHERE \n",
    "    sport_rows.user_id = %s\n",
    "\n",
    "UNION ALL \n",
    "\n",
    "SELECT \n",
    "    musculation_rows.date_seance,\n",
    "    musculation_rows.sport as sport, \n",
    "    musculation_rows.exercice, \n",
    "    NULL AS duree,\n",
    "    musculation_rows.seance,\n",
    "    musculation_rows.poid,\n",
    "    musculation_rows.nombre_repetition\n",
    "FROM \n",
    "    musculation_rows\n",
    "WHERE \n",
    "    musculation_rows.user_id = %s;\n",
    "        \"\"\"\n",
    "\n"
   ]
  },
  {
   "cell_type": "code",
   "execution_count": 9,
   "metadata": {},
   "outputs": [],
   "source": [
    "def import_all_data(user):\n",
    "    try:\n",
    "        connection = create_connection()\n",
    "        cursor = connection.cursor()\n",
    "        cursor.execute(sql, (user, user))\n",
    "        data = cursor.fetchall()\n",
    "        columns = [\n",
    "            \"date\",\n",
    "            \"sport\",\n",
    "            \"exercice\",\n",
    "            \"duree\",\n",
    "            \"seance\",\n",
    "            \"poid\",\n",
    "            \"nombre_repetition\",\n",
    "        ]\n",
    "        df_sport = pd.DataFrame(data, columns=columns)\n",
    "        return df_sport\n",
    "\n",
    "    except (Exception, psycopg2.Error) as error:\n",
    "        print(f\"Error while fetching data: {error}\")\n",
    "        return None, None\n",
    "    finally:\n",
    "        if cursor:\n",
    "            cursor.close()\n",
    "        if connection:\n",
    "            connection.close()"
   ]
  },
  {
   "cell_type": "code",
   "execution_count": 10,
   "metadata": {},
   "outputs": [
    {
     "name": "stdout",
     "output_type": "stream",
     "text": [
      "Error while fetching data: [Errno 2] No such file or directory: './sql/select_all_datas_for_user.sql'\n"
     ]
    }
   ],
   "source": [
    "    all_datas = import_all_data(USER_ID)\n"
   ]
  },
  {
   "cell_type": "code",
   "execution_count": null,
   "metadata": {},
   "outputs": [],
   "source": []
  },
  {
   "cell_type": "code",
   "execution_count": 6,
   "metadata": {},
   "outputs": [
    {
     "data": {
      "text/html": [
       "<div>\n",
       "<style scoped>\n",
       "    .dataframe tbody tr th:only-of-type {\n",
       "        vertical-align: middle;\n",
       "    }\n",
       "\n",
       "    .dataframe tbody tr th {\n",
       "        vertical-align: top;\n",
       "    }\n",
       "\n",
       "    .dataframe thead th {\n",
       "        text-align: right;\n",
       "    }\n",
       "</style>\n",
       "<table border=\"1\" class=\"dataframe\">\n",
       "  <thead>\n",
       "    <tr style=\"text-align: right;\">\n",
       "      <th></th>\n",
       "      <th>date_seance</th>\n",
       "      <th>sport</th>\n",
       "      <th>exercice</th>\n",
       "      <th>duree</th>\n",
       "      <th>commentaire</th>\n",
       "      <th>id</th>\n",
       "      <th>user_id</th>\n",
       "    </tr>\n",
       "  </thead>\n",
       "  <tbody>\n",
       "    <tr>\n",
       "      <th>0</th>\n",
       "      <td>2024-02-24</td>\n",
       "      <td>Cardio</td>\n",
       "      <td>Vélo Elliptique</td>\n",
       "      <td>30.0</td>\n",
       "      <td>None</td>\n",
       "      <td>26</td>\n",
       "      <td>19</td>\n",
       "    </tr>\n",
       "    <tr>\n",
       "      <th>1</th>\n",
       "      <td>2024-02-24</td>\n",
       "      <td>Cardio</td>\n",
       "      <td>Cross Trainning</td>\n",
       "      <td>30.0</td>\n",
       "      <td>None</td>\n",
       "      <td>27</td>\n",
       "      <td>19</td>\n",
       "    </tr>\n",
       "    <tr>\n",
       "      <th>2</th>\n",
       "      <td>2024-02-24</td>\n",
       "      <td>Cardio</td>\n",
       "      <td>Tennis</td>\n",
       "      <td>60.0</td>\n",
       "      <td>None</td>\n",
       "      <td>28</td>\n",
       "      <td>19</td>\n",
       "    </tr>\n",
       "    <tr>\n",
       "      <th>3</th>\n",
       "      <td>2024-02-03</td>\n",
       "      <td>Cardio</td>\n",
       "      <td>Cross Trainning</td>\n",
       "      <td>NaN</td>\n",
       "      <td>20 pompes \\n20 ballons mur en équilibres \\n12 ...</td>\n",
       "      <td>95</td>\n",
       "      <td>19</td>\n",
       "    </tr>\n",
       "    <tr>\n",
       "      <th>4</th>\n",
       "      <td>2024-04-03</td>\n",
       "      <td>Cardio</td>\n",
       "      <td>Tennis</td>\n",
       "      <td>60.0</td>\n",
       "      <td>None</td>\n",
       "      <td>143</td>\n",
       "      <td>19</td>\n",
       "    </tr>\n",
       "  </tbody>\n",
       "</table>\n",
       "</div>"
      ],
      "text/plain": [
       "  date_seance   sport         exercice  duree  \\\n",
       "0  2024-02-24  Cardio  Vélo Elliptique   30.0   \n",
       "1  2024-02-24  Cardio  Cross Trainning   30.0   \n",
       "2  2024-02-24  Cardio           Tennis   60.0   \n",
       "3  2024-02-03  Cardio  Cross Trainning    NaN   \n",
       "4  2024-04-03  Cardio           Tennis   60.0   \n",
       "\n",
       "                                         commentaire   id  user_id  \n",
       "0                                               None   26       19  \n",
       "1                                               None   27       19  \n",
       "2                                               None   28       19  \n",
       "3  20 pompes \\n20 ballons mur en équilibres \\n12 ...   95       19  \n",
       "4                                               None  143       19  "
      ]
     },
     "execution_count": 6,
     "metadata": {},
     "output_type": "execute_result"
    }
   ],
   "source": [
    "df_sport_row = pd.DataFrame(data, columns=[\"date_seance\",\"sport\",\"exercice\",\"duree\",\"commentaire\",\"id\",\"user_id\"])\n",
    "df_sport_row.head()"
   ]
  },
  {
   "cell_type": "code",
   "execution_count": null,
   "metadata": {},
   "outputs": [],
   "source": []
  },
  {
   "cell_type": "code",
   "execution_count": null,
   "metadata": {},
   "outputs": [],
   "source": []
  },
  {
   "cell_type": "markdown",
   "metadata": {},
   "source": [
    "\n",
    "## Extraction des données liés aux musculation_rows"
   ]
  },
  {
   "cell_type": "code",
   "execution_count": 7,
   "metadata": {},
   "outputs": [],
   "source": [
    "connection = create_connection()\n",
    "cursor = connection.cursor()\n",
    "sql =   \"\"\"\n",
    "            SELECT * FROM musculation_rows\n",
    "            WHERE user_id = %s\n",
    "        \"\"\"\n",
    "cursor.execute(sql, (USER_ID,))\n",
    "data = cursor.fetchall()\n"
   ]
  },
  {
   "cell_type": "code",
   "execution_count": 8,
   "metadata": {},
   "outputs": [
    {
     "data": {
      "text/html": [
       "<div>\n",
       "<style scoped>\n",
       "    .dataframe tbody tr th:only-of-type {\n",
       "        vertical-align: middle;\n",
       "    }\n",
       "\n",
       "    .dataframe tbody tr th {\n",
       "        vertical-align: top;\n",
       "    }\n",
       "\n",
       "    .dataframe thead th {\n",
       "        text-align: right;\n",
       "    }\n",
       "</style>\n",
       "<table border=\"1\" class=\"dataframe\">\n",
       "  <thead>\n",
       "    <tr style=\"text-align: right;\">\n",
       "      <th></th>\n",
       "      <th>date_seance</th>\n",
       "      <th>seance</th>\n",
       "      <th>exercice</th>\n",
       "      <th>poid</th>\n",
       "      <th>nombre_repetition</th>\n",
       "      <th>commentaires</th>\n",
       "      <th>user_id</th>\n",
       "    </tr>\n",
       "  </thead>\n",
       "  <tbody>\n",
       "    <tr>\n",
       "      <th>0</th>\n",
       "      <td>2024-02-19</td>\n",
       "      <td>Pectoraux</td>\n",
       "      <td>Développé Couché</td>\n",
       "      <td>60.0</td>\n",
       "      <td>6.0</td>\n",
       "      <td>None</td>\n",
       "      <td>19</td>\n",
       "    </tr>\n",
       "    <tr>\n",
       "      <th>1</th>\n",
       "      <td>2024-02-19</td>\n",
       "      <td>Pectoraux</td>\n",
       "      <td>Développé Couché</td>\n",
       "      <td>60.0</td>\n",
       "      <td>6.0</td>\n",
       "      <td>None</td>\n",
       "      <td>19</td>\n",
       "    </tr>\n",
       "    <tr>\n",
       "      <th>2</th>\n",
       "      <td>2024-02-19</td>\n",
       "      <td>Pectoraux</td>\n",
       "      <td>Développé Couché</td>\n",
       "      <td>60.0</td>\n",
       "      <td>6.0</td>\n",
       "      <td>None</td>\n",
       "      <td>19</td>\n",
       "    </tr>\n",
       "    <tr>\n",
       "      <th>3</th>\n",
       "      <td>2024-02-19</td>\n",
       "      <td>Pectoraux</td>\n",
       "      <td>Développé Couché</td>\n",
       "      <td>50.0</td>\n",
       "      <td>10.0</td>\n",
       "      <td>None</td>\n",
       "      <td>19</td>\n",
       "    </tr>\n",
       "    <tr>\n",
       "      <th>4</th>\n",
       "      <td>2024-02-19</td>\n",
       "      <td>Pectoraux</td>\n",
       "      <td>Développé Couché</td>\n",
       "      <td>50.0</td>\n",
       "      <td>9.0</td>\n",
       "      <td>None</td>\n",
       "      <td>19</td>\n",
       "    </tr>\n",
       "  </tbody>\n",
       "</table>\n",
       "</div>"
      ],
      "text/plain": [
       "  date_seance     seance          exercice  poid  nombre_repetition  \\\n",
       "0  2024-02-19  Pectoraux  Développé Couché  60.0                6.0   \n",
       "1  2024-02-19  Pectoraux  Développé Couché  60.0                6.0   \n",
       "2  2024-02-19  Pectoraux  Développé Couché  60.0                6.0   \n",
       "3  2024-02-19  Pectoraux  Développé Couché  50.0               10.0   \n",
       "4  2024-02-19  Pectoraux  Développé Couché  50.0                9.0   \n",
       "\n",
       "  commentaires  user_id  \n",
       "0         None       19  \n",
       "1         None       19  \n",
       "2         None       19  \n",
       "3         None       19  \n",
       "4         None       19  "
      ]
     },
     "execution_count": 8,
     "metadata": {},
     "output_type": "execute_result"
    }
   ],
   "source": [
    "df_musculation_row = pd.DataFrame(data, columns=[\"date_seance\",\"seance\",\"exercice\",\"poid\",\"nombre_repetition\",\"commentaires\",\"user_id\"])\n",
    "df_musculation_row.head()"
   ]
  },
  {
   "cell_type": "code",
   "execution_count": 9,
   "metadata": {},
   "outputs": [
    {
     "data": {
      "text/plain": [
       "(1232, 7)"
      ]
     },
     "execution_count": 9,
     "metadata": {},
     "output_type": "execute_result"
    }
   ],
   "source": [
    "df_musculation_row.shape"
   ]
  },
  {
   "cell_type": "code",
   "execution_count": 10,
   "metadata": {},
   "outputs": [
    {
     "data": {
      "text/plain": [
       "(38, 7)"
      ]
     },
     "execution_count": 10,
     "metadata": {},
     "output_type": "execute_result"
    }
   ],
   "source": [
    "df_sport_row.shape"
   ]
  },
  {
   "cell_type": "code",
   "execution_count": 11,
   "metadata": {},
   "outputs": [],
   "source": [
    "connection = create_connection()\n",
    "cursor = connection.cursor()\n",
    "sql =   \"\"\"\n",
    "            SELECT * FROM cross_trainning_rows\n",
    "            WHERE user_id = %s\n",
    "        \"\"\"\n",
    "cursor.execute(sql, (USER_ID,))\n",
    "data = cursor.fetchall()\n"
   ]
  },
  {
   "cell_type": "code",
   "execution_count": 12,
   "metadata": {},
   "outputs": [
    {
     "data": {
      "text/html": [
       "<div>\n",
       "<style scoped>\n",
       "    .dataframe tbody tr th:only-of-type {\n",
       "        vertical-align: middle;\n",
       "    }\n",
       "\n",
       "    .dataframe tbody tr th {\n",
       "        vertical-align: top;\n",
       "    }\n",
       "\n",
       "    .dataframe thead th {\n",
       "        text-align: right;\n",
       "    }\n",
       "</style>\n",
       "<table border=\"1\" class=\"dataframe\">\n",
       "  <thead>\n",
       "    <tr style=\"text-align: right;\">\n",
       "      <th></th>\n",
       "      <th>id</th>\n",
       "      <th>user_id</th>\n",
       "      <th>cross_trainning_serie_id</th>\n",
       "      <th>number</th>\n",
       "      <th>nombre_repetition</th>\n",
       "      <th>commentaires</th>\n",
       "      <th>user_id</th>\n",
       "    </tr>\n",
       "  </thead>\n",
       "  <tbody>\n",
       "  </tbody>\n",
       "</table>\n",
       "</div>"
      ],
      "text/plain": [
       "Empty DataFrame\n",
       "Columns: [id, user_id, cross_trainning_serie_id, number, nombre_repetition, commentaires, user_id]\n",
       "Index: []"
      ]
     },
     "execution_count": 12,
     "metadata": {},
     "output_type": "execute_result"
    }
   ],
   "source": [
    "df__cross_trainning_rows = pd.DataFrame(data, columns=[\"id\",\"user_id\",\"cross_trainning_serie_id\",\"number\",\"nombre_repetition\",\"commentaires\",\"user_id\"])\n",
    "df__cross_trainning_rows.head()"
   ]
  },
  {
   "cell_type": "code",
   "execution_count": 13,
   "metadata": {},
   "outputs": [
    {
     "data": {
      "text/plain": [
       "Index(['date_seance', 'seance', 'exercice', 'poid', 'nombre_repetition',\n",
       "       'commentaires', 'user_id'],\n",
       "      dtype='object')"
      ]
     },
     "execution_count": 13,
     "metadata": {},
     "output_type": "execute_result"
    }
   ],
   "source": [
    "df_musculation_row.columns"
   ]
  },
  {
   "cell_type": "code",
   "execution_count": 14,
   "metadata": {},
   "outputs": [
    {
     "data": {
      "text/plain": [
       "Index(['date_seance', 'sport', 'exercice', 'duree', 'commentaire', 'id',\n",
       "       'user_id'],\n",
       "      dtype='object')"
      ]
     },
     "execution_count": 14,
     "metadata": {},
     "output_type": "execute_result"
    }
   ],
   "source": [
    "df_sport_row.columns"
   ]
  },
  {
   "cell_type": "code",
   "execution_count": 15,
   "metadata": {},
   "outputs": [],
   "source": [
    "df_all_sport = pd.concat([df_musculation_row,df_sport_row])"
   ]
  },
  {
   "cell_type": "code",
   "execution_count": 16,
   "metadata": {},
   "outputs": [
    {
     "data": {
      "text/html": [
       "<div>\n",
       "<style scoped>\n",
       "    .dataframe tbody tr th:only-of-type {\n",
       "        vertical-align: middle;\n",
       "    }\n",
       "\n",
       "    .dataframe tbody tr th {\n",
       "        vertical-align: top;\n",
       "    }\n",
       "\n",
       "    .dataframe thead th {\n",
       "        text-align: right;\n",
       "    }\n",
       "</style>\n",
       "<table border=\"1\" class=\"dataframe\">\n",
       "  <thead>\n",
       "    <tr style=\"text-align: right;\">\n",
       "      <th></th>\n",
       "      <th>date_seance</th>\n",
       "      <th>seance</th>\n",
       "      <th>exercice</th>\n",
       "      <th>poid</th>\n",
       "      <th>nombre_repetition</th>\n",
       "      <th>commentaires</th>\n",
       "      <th>user_id</th>\n",
       "      <th>sport</th>\n",
       "      <th>duree</th>\n",
       "      <th>commentaire</th>\n",
       "      <th>id</th>\n",
       "    </tr>\n",
       "  </thead>\n",
       "  <tbody>\n",
       "    <tr>\n",
       "      <th>0</th>\n",
       "      <td>2024-02-19</td>\n",
       "      <td>Pectoraux</td>\n",
       "      <td>Développé Couché</td>\n",
       "      <td>60.0</td>\n",
       "      <td>6.0</td>\n",
       "      <td>None</td>\n",
       "      <td>19</td>\n",
       "      <td>NaN</td>\n",
       "      <td>NaN</td>\n",
       "      <td>NaN</td>\n",
       "      <td>NaN</td>\n",
       "    </tr>\n",
       "    <tr>\n",
       "      <th>1</th>\n",
       "      <td>2024-02-19</td>\n",
       "      <td>Pectoraux</td>\n",
       "      <td>Développé Couché</td>\n",
       "      <td>60.0</td>\n",
       "      <td>6.0</td>\n",
       "      <td>None</td>\n",
       "      <td>19</td>\n",
       "      <td>NaN</td>\n",
       "      <td>NaN</td>\n",
       "      <td>NaN</td>\n",
       "      <td>NaN</td>\n",
       "    </tr>\n",
       "    <tr>\n",
       "      <th>2</th>\n",
       "      <td>2024-02-19</td>\n",
       "      <td>Pectoraux</td>\n",
       "      <td>Développé Couché</td>\n",
       "      <td>60.0</td>\n",
       "      <td>6.0</td>\n",
       "      <td>None</td>\n",
       "      <td>19</td>\n",
       "      <td>NaN</td>\n",
       "      <td>NaN</td>\n",
       "      <td>NaN</td>\n",
       "      <td>NaN</td>\n",
       "    </tr>\n",
       "    <tr>\n",
       "      <th>3</th>\n",
       "      <td>2024-02-19</td>\n",
       "      <td>Pectoraux</td>\n",
       "      <td>Développé Couché</td>\n",
       "      <td>50.0</td>\n",
       "      <td>10.0</td>\n",
       "      <td>None</td>\n",
       "      <td>19</td>\n",
       "      <td>NaN</td>\n",
       "      <td>NaN</td>\n",
       "      <td>NaN</td>\n",
       "      <td>NaN</td>\n",
       "    </tr>\n",
       "    <tr>\n",
       "      <th>4</th>\n",
       "      <td>2024-02-19</td>\n",
       "      <td>Pectoraux</td>\n",
       "      <td>Développé Couché</td>\n",
       "      <td>50.0</td>\n",
       "      <td>9.0</td>\n",
       "      <td>None</td>\n",
       "      <td>19</td>\n",
       "      <td>NaN</td>\n",
       "      <td>NaN</td>\n",
       "      <td>NaN</td>\n",
       "      <td>NaN</td>\n",
       "    </tr>\n",
       "    <tr>\n",
       "      <th>...</th>\n",
       "      <td>...</td>\n",
       "      <td>...</td>\n",
       "      <td>...</td>\n",
       "      <td>...</td>\n",
       "      <td>...</td>\n",
       "      <td>...</td>\n",
       "      <td>...</td>\n",
       "      <td>...</td>\n",
       "      <td>...</td>\n",
       "      <td>...</td>\n",
       "      <td>...</td>\n",
       "    </tr>\n",
       "    <tr>\n",
       "      <th>33</th>\n",
       "      <td>2024-06-29</td>\n",
       "      <td>NaN</td>\n",
       "      <td>Tennis</td>\n",
       "      <td>NaN</td>\n",
       "      <td>NaN</td>\n",
       "      <td>NaN</td>\n",
       "      <td>19</td>\n",
       "      <td>Cardio</td>\n",
       "      <td>60.0</td>\n",
       "      <td>None</td>\n",
       "      <td>992.0</td>\n",
       "    </tr>\n",
       "    <tr>\n",
       "      <th>34</th>\n",
       "      <td>2024-06-30</td>\n",
       "      <td>NaN</td>\n",
       "      <td>Tennis</td>\n",
       "      <td>NaN</td>\n",
       "      <td>NaN</td>\n",
       "      <td>NaN</td>\n",
       "      <td>19</td>\n",
       "      <td>Cardio</td>\n",
       "      <td>60.0</td>\n",
       "      <td>None</td>\n",
       "      <td>993.0</td>\n",
       "    </tr>\n",
       "    <tr>\n",
       "      <th>35</th>\n",
       "      <td>2024-07-01</td>\n",
       "      <td>NaN</td>\n",
       "      <td>Stepper</td>\n",
       "      <td>NaN</td>\n",
       "      <td>NaN</td>\n",
       "      <td>NaN</td>\n",
       "      <td>19</td>\n",
       "      <td>Cardio</td>\n",
       "      <td>NaN</td>\n",
       "      <td>None</td>\n",
       "      <td>1012.0</td>\n",
       "    </tr>\n",
       "    <tr>\n",
       "      <th>36</th>\n",
       "      <td>2024-07-02</td>\n",
       "      <td>NaN</td>\n",
       "      <td>Tennis</td>\n",
       "      <td>NaN</td>\n",
       "      <td>NaN</td>\n",
       "      <td>NaN</td>\n",
       "      <td>19</td>\n",
       "      <td>Cardio</td>\n",
       "      <td>60.0</td>\n",
       "      <td>None</td>\n",
       "      <td>1026.0</td>\n",
       "    </tr>\n",
       "    <tr>\n",
       "      <th>37</th>\n",
       "      <td>2024-07-03</td>\n",
       "      <td>NaN</td>\n",
       "      <td>Cross-Trainning</td>\n",
       "      <td>NaN</td>\n",
       "      <td>NaN</td>\n",
       "      <td>NaN</td>\n",
       "      <td>19</td>\n",
       "      <td>Cardio</td>\n",
       "      <td>60.0</td>\n",
       "      <td>None</td>\n",
       "      <td>1046.0</td>\n",
       "    </tr>\n",
       "  </tbody>\n",
       "</table>\n",
       "<p>1270 rows × 11 columns</p>\n",
       "</div>"
      ],
      "text/plain": [
       "   date_seance     seance          exercice  poid  nombre_repetition  \\\n",
       "0   2024-02-19  Pectoraux  Développé Couché  60.0                6.0   \n",
       "1   2024-02-19  Pectoraux  Développé Couché  60.0                6.0   \n",
       "2   2024-02-19  Pectoraux  Développé Couché  60.0                6.0   \n",
       "3   2024-02-19  Pectoraux  Développé Couché  50.0               10.0   \n",
       "4   2024-02-19  Pectoraux  Développé Couché  50.0                9.0   \n",
       "..         ...        ...               ...   ...                ...   \n",
       "33  2024-06-29        NaN            Tennis   NaN                NaN   \n",
       "34  2024-06-30        NaN            Tennis   NaN                NaN   \n",
       "35  2024-07-01        NaN           Stepper   NaN                NaN   \n",
       "36  2024-07-02        NaN            Tennis   NaN                NaN   \n",
       "37  2024-07-03        NaN   Cross-Trainning   NaN                NaN   \n",
       "\n",
       "   commentaires  user_id   sport  duree commentaire      id  \n",
       "0          None       19     NaN    NaN         NaN     NaN  \n",
       "1          None       19     NaN    NaN         NaN     NaN  \n",
       "2          None       19     NaN    NaN         NaN     NaN  \n",
       "3          None       19     NaN    NaN         NaN     NaN  \n",
       "4          None       19     NaN    NaN         NaN     NaN  \n",
       "..          ...      ...     ...    ...         ...     ...  \n",
       "33          NaN       19  Cardio   60.0        None   992.0  \n",
       "34          NaN       19  Cardio   60.0        None   993.0  \n",
       "35          NaN       19  Cardio    NaN        None  1012.0  \n",
       "36          NaN       19  Cardio   60.0        None  1026.0  \n",
       "37          NaN       19  Cardio   60.0        None  1046.0  \n",
       "\n",
       "[1270 rows x 11 columns]"
      ]
     },
     "execution_count": 16,
     "metadata": {},
     "output_type": "execute_result"
    }
   ],
   "source": [
    "df_all_sport"
   ]
  },
  {
   "cell_type": "markdown",
   "metadata": {},
   "source": [
    "## PLot with time value "
   ]
  },
  {
   "cell_type": "code",
   "execution_count": 17,
   "metadata": {},
   "outputs": [],
   "source": [
    "def create_empty_timeserie(time_analyse:str)->pd.Series:\n",
    "    today_date = datetime.today().date()\n",
    "    if time_analyse == \"week\":\n",
    "        end_date = today_date - timedelta(weeks=1)\n",
    "    elif time_analyse == \"month\":\n",
    "        end_date = today_date - timedelta(days=30)\n",
    "    elif time_analyse == \"year\":\n",
    "        end_date = today_date - timedelta(days=365)\n",
    "    else:\n",
    "        raise ValueError(\"time_analyse must be 'week', 'month', or 'year'\")\n",
    "    \n",
    "    return pd.date_range(start=end_date, end=today_date)"
   ]
  },
  {
   "cell_type": "code",
   "execution_count": 18,
   "metadata": {},
   "outputs": [],
   "source": [
    "def filter_by_time_period(df_all_sport: pd.DataFrame, time_analyse: str):\n",
    "    try: \n",
    "        df_all_sport[\"date_seance\"] = pd.to_datetime(df_all_sport[\"date_seance\"])\n",
    "    except: \n",
    "        print(\"donnée date_seance déjà transformée\")\n",
    "\n",
    "    date_series = create_empty_timeserie(time_analyse)\n",
    "    df_time_period = df_all_sport[\n",
    "        (df_all_sport[\"date_seance\"] >= date_series.min()) & \n",
    "        (df_all_sport[\"date_seance\"] <= date_series.max())\n",
    "    ]\n",
    "    return df_time_period"
   ]
  },
  {
   "cell_type": "code",
   "execution_count": 19,
   "metadata": {},
   "outputs": [
    {
     "data": {
      "text/html": [
       "<div>\n",
       "<style scoped>\n",
       "    .dataframe tbody tr th:only-of-type {\n",
       "        vertical-align: middle;\n",
       "    }\n",
       "\n",
       "    .dataframe tbody tr th {\n",
       "        vertical-align: top;\n",
       "    }\n",
       "\n",
       "    .dataframe thead th {\n",
       "        text-align: right;\n",
       "    }\n",
       "</style>\n",
       "<table border=\"1\" class=\"dataframe\">\n",
       "  <thead>\n",
       "    <tr style=\"text-align: right;\">\n",
       "      <th></th>\n",
       "      <th>date_seance</th>\n",
       "      <th>seance</th>\n",
       "      <th>exercice</th>\n",
       "      <th>poid</th>\n",
       "      <th>nombre_repetition</th>\n",
       "      <th>commentaires</th>\n",
       "      <th>user_id</th>\n",
       "      <th>sport</th>\n",
       "      <th>duree</th>\n",
       "      <th>commentaire</th>\n",
       "      <th>id</th>\n",
       "    </tr>\n",
       "  </thead>\n",
       "  <tbody>\n",
       "    <tr>\n",
       "      <th>158</th>\n",
       "      <td>2024-08-03</td>\n",
       "      <td>Bras</td>\n",
       "      <td>Triceps à la Poulie</td>\n",
       "      <td>36.0</td>\n",
       "      <td>12.0</td>\n",
       "      <td>None</td>\n",
       "      <td>19</td>\n",
       "      <td>NaN</td>\n",
       "      <td>NaN</td>\n",
       "      <td>NaN</td>\n",
       "      <td>NaN</td>\n",
       "    </tr>\n",
       "    <tr>\n",
       "      <th>159</th>\n",
       "      <td>2024-08-03</td>\n",
       "      <td>Bras</td>\n",
       "      <td>Triceps à la Poulie</td>\n",
       "      <td>41.0</td>\n",
       "      <td>12.0</td>\n",
       "      <td>None</td>\n",
       "      <td>19</td>\n",
       "      <td>NaN</td>\n",
       "      <td>NaN</td>\n",
       "      <td>NaN</td>\n",
       "      <td>NaN</td>\n",
       "    </tr>\n",
       "    <tr>\n",
       "      <th>160</th>\n",
       "      <td>2024-08-03</td>\n",
       "      <td>Bras</td>\n",
       "      <td>Triceps à la Poulie</td>\n",
       "      <td>25.3</td>\n",
       "      <td>12.0</td>\n",
       "      <td>None</td>\n",
       "      <td>19</td>\n",
       "      <td>NaN</td>\n",
       "      <td>NaN</td>\n",
       "      <td>NaN</td>\n",
       "      <td>NaN</td>\n",
       "    </tr>\n",
       "    <tr>\n",
       "      <th>161</th>\n",
       "      <td>2024-08-03</td>\n",
       "      <td>Bras</td>\n",
       "      <td>Triceps à la Poulie</td>\n",
       "      <td>25.3</td>\n",
       "      <td>11.0</td>\n",
       "      <td>None</td>\n",
       "      <td>19</td>\n",
       "      <td>NaN</td>\n",
       "      <td>NaN</td>\n",
       "      <td>NaN</td>\n",
       "      <td>NaN</td>\n",
       "    </tr>\n",
       "    <tr>\n",
       "      <th>162</th>\n",
       "      <td>2024-08-03</td>\n",
       "      <td>Bras</td>\n",
       "      <td>Triceps à la Poulie</td>\n",
       "      <td>25.3</td>\n",
       "      <td>11.0</td>\n",
       "      <td>None</td>\n",
       "      <td>19</td>\n",
       "      <td>NaN</td>\n",
       "      <td>NaN</td>\n",
       "      <td>NaN</td>\n",
       "      <td>NaN</td>\n",
       "    </tr>\n",
       "  </tbody>\n",
       "</table>\n",
       "</div>"
      ],
      "text/plain": [
       "    date_seance seance             exercice  poid  nombre_repetition  \\\n",
       "158  2024-08-03   Bras  Triceps à la Poulie  36.0               12.0   \n",
       "159  2024-08-03   Bras  Triceps à la Poulie  41.0               12.0   \n",
       "160  2024-08-03   Bras  Triceps à la Poulie  25.3               12.0   \n",
       "161  2024-08-03   Bras  Triceps à la Poulie  25.3               11.0   \n",
       "162  2024-08-03   Bras  Triceps à la Poulie  25.3               11.0   \n",
       "\n",
       "    commentaires  user_id sport  duree commentaire  id  \n",
       "158         None       19   NaN    NaN         NaN NaN  \n",
       "159         None       19   NaN    NaN         NaN NaN  \n",
       "160         None       19   NaN    NaN         NaN NaN  \n",
       "161         None       19   NaN    NaN         NaN NaN  \n",
       "162         None       19   NaN    NaN         NaN NaN  "
      ]
     },
     "execution_count": 19,
     "metadata": {},
     "output_type": "execute_result"
    }
   ],
   "source": [
    "df = filter_by_time_period(df_all_sport, \"month\")\n",
    "df.head()"
   ]
  },
  {
   "cell_type": "code",
   "execution_count": 20,
   "metadata": {},
   "outputs": [
    {
     "name": "stdout",
     "output_type": "stream",
     "text": [
      "        date  did_sport_this_day\n",
      "0 2024-08-03                   1\n",
      "1 2024-08-04                   1\n",
      "2 2024-08-05                   0\n",
      "3 2024-08-06                   0\n",
      "4 2024-08-07                   0\n"
     ]
    }
   ],
   "source": [
    "\n",
    "timeseries = create_empty_timeserie(time_analyse=\"month\")\n",
    "df_timeseries = pd.DataFrame(timeseries, columns=['date'])\n",
    "df_timeseries['did_sport_this_day'] = df_timeseries['date'].apply(lambda x: 1 if x in df['date_seance'].values else 0)\n",
    "print(df_timeseries.head())"
   ]
  },
  {
   "cell_type": "code",
   "execution_count": 21,
   "metadata": {},
   "outputs": [
    {
     "data": {
      "text/plain": [
       "did_sport_this_day\n",
       "0    29\n",
       "1     2\n",
       "Name: count, dtype: int64"
      ]
     },
     "execution_count": 21,
     "metadata": {},
     "output_type": "execute_result"
    }
   ],
   "source": [
    "df_timeseries[\"did_sport_this_day\"].value_counts()"
   ]
  },
  {
   "cell_type": "code",
   "execution_count": 22,
   "metadata": {},
   "outputs": [
    {
     "data": {
      "image/png": "[encoded data removed]",
      "text/plain": [
       "<Figure size 1000x600 with 1 Axes>"
      ]
     },
     "metadata": {},
     "output_type": "display_data"
    }
   ],
   "source": [
    "ax = df_timeseries.plot(\n",
    "    x='date', \n",
    "    y='did_sport_this_day', \n",
    "    kind='bar', \n",
    "    figsize=(10, 6), \n",
    "    color='blue', \n",
    "    legend=False\n",
    ")"
   ]
  },
  {
   "cell_type": "code",
   "execution_count": 23,
   "metadata": {},
   "outputs": [],
   "source": [
    "def get_numerical_value(df_time_period:pd.DataFrame):\n",
    "    number_of_day = df_time_period[\"date_seance\"].ncount()\n",
    "    number_of_exercice = df_time_period.groupby(\"date_seance\")\n",
    "    return number_of_day\n",
    "\n"
   ]
  },
  {
   "cell_type": "code",
   "execution_count": 24,
   "metadata": {},
   "outputs": [
    {
     "data": {
      "text/plain": [
       "7"
      ]
     },
     "execution_count": 24,
     "metadata": {},
     "output_type": "execute_result"
    }
   ],
   "source": [
    "df.exercice.nunique()"
   ]
  },
  {
   "cell_type": "code",
   "execution_count": 25,
   "metadata": {},
   "outputs": [
    {
     "data": {
      "text/plain": [
       "7"
      ]
     },
     "execution_count": 25,
     "metadata": {},
     "output_type": "execute_result"
    }
   ],
   "source": [
    "number_of_exercice = df.groupby(\"exercice\").agg(\"count\")\n",
    "number_of_diferents_exercices = df[\"exercice\"].nunique()\n",
    "number_of_diferents_exercices"
   ]
  },
  {
   "cell_type": "code",
   "execution_count": 26,
   "metadata": {},
   "outputs": [
    {
     "data": {
      "text/plain": [
       "array(['Triceps à la Poulie', 'Triceps à la Poulie Inversée',\n",
       "       'Biceps Curls', 'Biceps Curl Allongé', 'Rotary Torso',\n",
       "       'Machine Abdominaux', 'Lower Back Bench'], dtype=object)"
      ]
     },
     "execution_count": 26,
     "metadata": {},
     "output_type": "execute_result"
    }
   ],
   "source": [
    "df[\"exercice\"].unique()"
   ]
  },
  {
   "cell_type": "code",
   "execution_count": 27,
   "metadata": {},
   "outputs": [
    {
     "data": {
      "text/plain": [
       "838.5"
      ]
     },
     "execution_count": 27,
     "metadata": {},
     "output_type": "execute_result"
    }
   ],
   "source": [
    "poid_portée = df[\"poid\"].sum()\n",
    "float(poid_portée)\n"
   ]
  },
  {
   "cell_type": "code",
   "execution_count": null,
   "metadata": {},
   "outputs": [],
   "source": []
  },
  {
   "cell_type": "code",
   "execution_count": null,
   "metadata": {},
   "outputs": [],
   "source": []
  },
  {
   "cell_type": "code",
   "execution_count": null,
   "metadata": {},
   "outputs": [],
   "source": []
  },
  {
   "cell_type": "code",
   "execution_count": null,
   "metadata": {},
   "outputs": [],
   "source": []
  }
 ],
 "metadata": {
  "kernelspec": {
   "display_name": "venv",
   "language": "python",
   "name": "python3"
  },
  "language_info": {
   "codemirror_mode": {
    "name": "ipython",
    "version": 3
   },
   "file_extension": ".py",
   "mimetype": "text/x-python",
   "name": "python",
   "nbconvert_exporter": "python",
   "pygments_lexer": "ipython3",
   "version": "3.12.5"
  }
 },
 "nbformat": 4,
 "nbformat_minor": 2
}
