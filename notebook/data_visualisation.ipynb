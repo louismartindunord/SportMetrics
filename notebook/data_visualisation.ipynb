{
 "cells": [
  {
   "cell_type": "code",
   "execution_count": 1,
   "metadata": {},
   "outputs": [],
   "source": [
    "import pandas as pd \n",
    "import numpy as np \n",
    "import psycopg2\n",
    "import os \n",
    "from dotenv import load_dotenv\n",
    "import seaborn as sns \n",
    "from datetime import datetime, timedelta"
   ]
  },
  {
   "cell_type": "code",
   "execution_count": 2,
   "metadata": {},
   "outputs": [],
   "source": [
    "import matplotlib.pyplot as plt"
   ]
  },
  {
   "cell_type": "code",
   "execution_count": 3,
   "metadata": {},
   "outputs": [],
   "source": [
    "def create_connection():\n",
    "    load_dotenv()\n",
    "    DATABASE = os.getenv(\"DATABASE\")\n",
    "    HOST = os.getenv(\"HOST\")\n",
    "    USER = os.getenv(\"USER\")\n",
    "    PASSWORD = os.getenv(\"PASSWORD\")\n",
    "    PORT = os.getenv(\"PORT\")\n",
    "    connection = psycopg2.connect(\n",
    "        host=HOST, database=DATABASE, user=USER, password=PASSWORD\n",
    "    )\n",
    "    return connection"
   ]
  },
  {
   "cell_type": "code",
   "execution_count": 4,
   "metadata": {},
   "outputs": [],
   "source": [
    "USER_ID = 19"
   ]
  },
  {
   "cell_type": "markdown",
   "metadata": {},
   "source": [
    "## Extraction des données liés aux sport_rows"
   ]
  },
  {
   "cell_type": "code",
   "execution_count": 5,
   "metadata": {},
   "outputs": [],
   "source": [
    "connection = create_connection()\n",
    "cursor = connection.cursor()\n",
    "sql =   \"\"\"\n",
    "            SELECT * FROM sport_rows\n",
    "            WHERE user_id = %s\n",
    "        \"\"\"\n",
    "cursor.execute(sql, (USER_ID,))\n",
    "data = cursor.fetchall()\n"
   ]
  },
  {
   "cell_type": "code",
   "execution_count": 6,
   "metadata": {},
   "outputs": [
    {
     "data": {
      "text/html": [
       "<div>\n",
       "<style scoped>\n",
       "    .dataframe tbody tr th:only-of-type {\n",
       "        vertical-align: middle;\n",
       "    }\n",
       "\n",
       "    .dataframe tbody tr th {\n",
       "        vertical-align: top;\n",
       "    }\n",
       "\n",
       "    .dataframe thead th {\n",
       "        text-align: right;\n",
       "    }\n",
       "</style>\n",
       "<table border=\"1\" class=\"dataframe\">\n",
       "  <thead>\n",
       "    <tr style=\"text-align: right;\">\n",
       "      <th></th>\n",
       "      <th>date_seance</th>\n",
       "      <th>sport</th>\n",
       "      <th>exercice</th>\n",
       "      <th>duree</th>\n",
       "      <th>commentaire</th>\n",
       "      <th>id</th>\n",
       "      <th>user_id</th>\n",
       "    </tr>\n",
       "  </thead>\n",
       "  <tbody>\n",
       "    <tr>\n",
       "      <th>0</th>\n",
       "      <td>2024-02-24</td>\n",
       "      <td>Cardio</td>\n",
       "      <td>Vélo Elliptique</td>\n",
       "      <td>30.0</td>\n",
       "      <td>None</td>\n",
       "      <td>26</td>\n",
       "      <td>19</td>\n",
       "    </tr>\n",
       "    <tr>\n",
       "      <th>1</th>\n",
       "      <td>2024-02-24</td>\n",
       "      <td>Cardio</td>\n",
       "      <td>Cross Trainning</td>\n",
       "      <td>30.0</td>\n",
       "      <td>None</td>\n",
       "      <td>27</td>\n",
       "      <td>19</td>\n",
       "    </tr>\n",
       "    <tr>\n",
       "      <th>2</th>\n",
       "      <td>2024-02-24</td>\n",
       "      <td>Cardio</td>\n",
       "      <td>Tennis</td>\n",
       "      <td>60.0</td>\n",
       "      <td>None</td>\n",
       "      <td>28</td>\n",
       "      <td>19</td>\n",
       "    </tr>\n",
       "    <tr>\n",
       "      <th>3</th>\n",
       "      <td>2024-02-03</td>\n",
       "      <td>Cardio</td>\n",
       "      <td>Cross Trainning</td>\n",
       "      <td>NaN</td>\n",
       "      <td>20 pompes \\n20 ballons mur en équilibres \\n12 ...</td>\n",
       "      <td>95</td>\n",
       "      <td>19</td>\n",
       "    </tr>\n",
       "    <tr>\n",
       "      <th>4</th>\n",
       "      <td>2024-04-03</td>\n",
       "      <td>Cardio</td>\n",
       "      <td>Tennis</td>\n",
       "      <td>60.0</td>\n",
       "      <td>None</td>\n",
       "      <td>143</td>\n",
       "      <td>19</td>\n",
       "    </tr>\n",
       "  </tbody>\n",
       "</table>\n",
       "</div>"
      ],
      "text/plain": [
       "  date_seance   sport         exercice  duree  \\\n",
       "0  2024-02-24  Cardio  Vélo Elliptique   30.0   \n",
       "1  2024-02-24  Cardio  Cross Trainning   30.0   \n",
       "2  2024-02-24  Cardio           Tennis   60.0   \n",
       "3  2024-02-03  Cardio  Cross Trainning    NaN   \n",
       "4  2024-04-03  Cardio           Tennis   60.0   \n",
       "\n",
       "                                         commentaire   id  user_id  \n",
       "0                                               None   26       19  \n",
       "1                                               None   27       19  \n",
       "2                                               None   28       19  \n",
       "3  20 pompes \\n20 ballons mur en équilibres \\n12 ...   95       19  \n",
       "4                                               None  143       19  "
      ]
     },
     "execution_count": 6,
     "metadata": {},
     "output_type": "execute_result"
    }
   ],
   "source": [
    "df_sport_row = pd.DataFrame(data, columns=[\"date_seance\",\"sport\",\"exercice\",\"duree\",\"commentaire\",\"id\",\"user_id\"])\n",
    "df_sport_row.head()"
   ]
  },
  {
   "cell_type": "markdown",
   "metadata": {},
   "source": [
    "\n",
    "## Extraction des données liés aux musculation_rows"
   ]
  },
  {
   "cell_type": "code",
   "execution_count": 7,
   "metadata": {},
   "outputs": [],
   "source": [
    "connection = create_connection()\n",
    "cursor = connection.cursor()\n",
    "sql =   \"\"\"\n",
    "            SELECT * FROM musculation_rows\n",
    "            WHERE user_id = %s\n",
    "        \"\"\"\n",
    "cursor.execute(sql, (USER_ID,))\n",
    "data = cursor.fetchall()\n"
   ]
  },
  {
   "cell_type": "code",
   "execution_count": 8,
   "metadata": {},
   "outputs": [
    {
     "data": {
      "text/html": [
       "<div>\n",
       "<style scoped>\n",
       "    .dataframe tbody tr th:only-of-type {\n",
       "        vertical-align: middle;\n",
       "    }\n",
       "\n",
       "    .dataframe tbody tr th {\n",
       "        vertical-align: top;\n",
       "    }\n",
       "\n",
       "    .dataframe thead th {\n",
       "        text-align: right;\n",
       "    }\n",
       "</style>\n",
       "<table border=\"1\" class=\"dataframe\">\n",
       "  <thead>\n",
       "    <tr style=\"text-align: right;\">\n",
       "      <th></th>\n",
       "      <th>date_seance</th>\n",
       "      <th>seance</th>\n",
       "      <th>exercice</th>\n",
       "      <th>poid</th>\n",
       "      <th>nombre_repetition</th>\n",
       "      <th>commentaires</th>\n",
       "      <th>user_id</th>\n",
       "    </tr>\n",
       "  </thead>\n",
       "  <tbody>\n",
       "    <tr>\n",
       "      <th>0</th>\n",
       "      <td>2024-02-19</td>\n",
       "      <td>Pectoraux</td>\n",
       "      <td>Développé Couché</td>\n",
       "      <td>60.0</td>\n",
       "      <td>6.0</td>\n",
       "      <td>None</td>\n",
       "      <td>19</td>\n",
       "    </tr>\n",
       "    <tr>\n",
       "      <th>1</th>\n",
       "      <td>2024-02-19</td>\n",
       "      <td>Pectoraux</td>\n",
       "      <td>Développé Couché</td>\n",
       "      <td>60.0</td>\n",
       "      <td>6.0</td>\n",
       "      <td>None</td>\n",
       "      <td>19</td>\n",
       "    </tr>\n",
       "    <tr>\n",
       "      <th>2</th>\n",
       "      <td>2024-02-19</td>\n",
       "      <td>Pectoraux</td>\n",
       "      <td>Développé Couché</td>\n",
       "      <td>60.0</td>\n",
       "      <td>6.0</td>\n",
       "      <td>None</td>\n",
       "      <td>19</td>\n",
       "    </tr>\n",
       "    <tr>\n",
       "      <th>3</th>\n",
       "      <td>2024-02-19</td>\n",
       "      <td>Pectoraux</td>\n",
       "      <td>Développé Couché</td>\n",
       "      <td>50.0</td>\n",
       "      <td>10.0</td>\n",
       "      <td>None</td>\n",
       "      <td>19</td>\n",
       "    </tr>\n",
       "    <tr>\n",
       "      <th>4</th>\n",
       "      <td>2024-02-19</td>\n",
       "      <td>Pectoraux</td>\n",
       "      <td>Développé Couché</td>\n",
       "      <td>50.0</td>\n",
       "      <td>9.0</td>\n",
       "      <td>None</td>\n",
       "      <td>19</td>\n",
       "    </tr>\n",
       "  </tbody>\n",
       "</table>\n",
       "</div>"
      ],
      "text/plain": [
       "  date_seance     seance          exercice  poid  nombre_repetition  \\\n",
       "0  2024-02-19  Pectoraux  Développé Couché  60.0                6.0   \n",
       "1  2024-02-19  Pectoraux  Développé Couché  60.0                6.0   \n",
       "2  2024-02-19  Pectoraux  Développé Couché  60.0                6.0   \n",
       "3  2024-02-19  Pectoraux  Développé Couché  50.0               10.0   \n",
       "4  2024-02-19  Pectoraux  Développé Couché  50.0                9.0   \n",
       "\n",
       "  commentaires  user_id  \n",
       "0         None       19  \n",
       "1         None       19  \n",
       "2         None       19  \n",
       "3         None       19  \n",
       "4         None       19  "
      ]
     },
     "execution_count": 8,
     "metadata": {},
     "output_type": "execute_result"
    }
   ],
   "source": [
    "df_musculation_row = pd.DataFrame(data, columns=[\"date_seance\",\"seance\",\"exercice\",\"poid\",\"nombre_repetition\",\"commentaires\",\"user_id\"])\n",
    "df_musculation_row.head()"
   ]
  },
  {
   "cell_type": "code",
   "execution_count": 9,
   "metadata": {},
   "outputs": [
    {
     "data": {
      "text/plain": [
       "(1232, 7)"
      ]
     },
     "execution_count": 9,
     "metadata": {},
     "output_type": "execute_result"
    }
   ],
   "source": [
    "df_musculation_row.shape"
   ]
  },
  {
   "cell_type": "code",
   "execution_count": 10,
   "metadata": {},
   "outputs": [
    {
     "data": {
      "text/plain": [
       "(38, 7)"
      ]
     },
     "execution_count": 10,
     "metadata": {},
     "output_type": "execute_result"
    }
   ],
   "source": [
    "df_sport_row.shape"
   ]
  },
  {
   "cell_type": "code",
   "execution_count": 11,
   "metadata": {},
   "outputs": [],
   "source": [
    "connection = create_connection()\n",
    "cursor = connection.cursor()\n",
    "sql =   \"\"\"\n",
    "            SELECT * FROM cross_trainning_rows\n",
    "            WHERE user_id = %s\n",
    "        \"\"\"\n",
    "cursor.execute(sql, (USER_ID,))\n",
    "data = cursor.fetchall()\n"
   ]
  },
  {
   "cell_type": "code",
   "execution_count": 12,
   "metadata": {},
   "outputs": [
    {
     "data": {
      "text/html": [
       "<div>\n",
       "<style scoped>\n",
       "    .dataframe tbody tr th:only-of-type {\n",
       "        vertical-align: middle;\n",
       "    }\n",
       "\n",
       "    .dataframe tbody tr th {\n",
       "        vertical-align: top;\n",
       "    }\n",
       "\n",
       "    .dataframe thead th {\n",
       "        text-align: right;\n",
       "    }\n",
       "</style>\n",
       "<table border=\"1\" class=\"dataframe\">\n",
       "  <thead>\n",
       "    <tr style=\"text-align: right;\">\n",
       "      <th></th>\n",
       "      <th>id</th>\n",
       "      <th>user_id</th>\n",
       "      <th>cross_trainning_serie_id</th>\n",
       "      <th>number</th>\n",
       "      <th>nombre_repetition</th>\n",
       "      <th>commentaires</th>\n",
       "      <th>user_id</th>\n",
       "    </tr>\n",
       "  </thead>\n",
       "  <tbody>\n",
       "  </tbody>\n",
       "</table>\n",
       "</div>"
      ],
      "text/plain": [
       "Empty DataFrame\n",
       "Columns: [id, user_id, cross_trainning_serie_id, number, nombre_repetition, commentaires, user_id]\n",
       "Index: []"
      ]
     },
     "execution_count": 12,
     "metadata": {},
     "output_type": "execute_result"
    }
   ],
   "source": [
    "df__cross_trainning_rows = pd.DataFrame(data, columns=[\"id\",\"user_id\",\"cross_trainning_serie_id\",\"number\",\"nombre_repetition\",\"commentaires\",\"user_id\"])\n",
    "df__cross_trainning_rows.head()"
   ]
  },
  {
   "cell_type": "code",
   "execution_count": 13,
   "metadata": {},
   "outputs": [
    {
     "data": {
      "text/plain": [
       "Index(['date_seance', 'seance', 'exercice', 'poid', 'nombre_repetition',\n",
       "       'commentaires', 'user_id'],\n",
       "      dtype='object')"
      ]
     },
     "execution_count": 13,
     "metadata": {},
     "output_type": "execute_result"
    }
   ],
   "source": [
    "df_musculation_row.columns"
   ]
  },
  {
   "cell_type": "code",
   "execution_count": 14,
   "metadata": {},
   "outputs": [
    {
     "data": {
      "text/plain": [
       "Index(['date_seance', 'sport', 'exercice', 'duree', 'commentaire', 'id',\n",
       "       'user_id'],\n",
       "      dtype='object')"
      ]
     },
     "execution_count": 14,
     "metadata": {},
     "output_type": "execute_result"
    }
   ],
   "source": [
    "df_sport_row.columns"
   ]
  },
  {
   "cell_type": "code",
   "execution_count": 15,
   "metadata": {},
   "outputs": [],
   "source": [
    "df_all_sport = pd.concat([df_musculation_row,df_sport_row])"
   ]
  },
  {
   "cell_type": "code",
   "execution_count": 16,
   "metadata": {},
   "outputs": [
    {
     "data": {
      "text/html": [
       "<div>\n",
       "<style scoped>\n",
       "    .dataframe tbody tr th:only-of-type {\n",
       "        vertical-align: middle;\n",
       "    }\n",
       "\n",
       "    .dataframe tbody tr th {\n",
       "        vertical-align: top;\n",
       "    }\n",
       "\n",
       "    .dataframe thead th {\n",
       "        text-align: right;\n",
       "    }\n",
       "</style>\n",
       "<table border=\"1\" class=\"dataframe\">\n",
       "  <thead>\n",
       "    <tr style=\"text-align: right;\">\n",
       "      <th></th>\n",
       "      <th>date_seance</th>\n",
       "      <th>seance</th>\n",
       "      <th>exercice</th>\n",
       "      <th>poid</th>\n",
       "      <th>nombre_repetition</th>\n",
       "      <th>commentaires</th>\n",
       "      <th>user_id</th>\n",
       "      <th>sport</th>\n",
       "      <th>duree</th>\n",
       "      <th>commentaire</th>\n",
       "      <th>id</th>\n",
       "    </tr>\n",
       "  </thead>\n",
       "  <tbody>\n",
       "    <tr>\n",
       "      <th>0</th>\n",
       "      <td>2024-02-19</td>\n",
       "      <td>Pectoraux</td>\n",
       "      <td>Développé Couché</td>\n",
       "      <td>60.0</td>\n",
       "      <td>6.0</td>\n",
       "      <td>None</td>\n",
       "      <td>19</td>\n",
       "      <td>NaN</td>\n",
       "      <td>NaN</td>\n",
       "      <td>NaN</td>\n",
       "      <td>NaN</td>\n",
       "    </tr>\n",
       "    <tr>\n",
       "      <th>1</th>\n",
       "      <td>2024-02-19</td>\n",
       "      <td>Pectoraux</td>\n",
       "      <td>Développé Couché</td>\n",
       "      <td>60.0</td>\n",
       "      <td>6.0</td>\n",
       "      <td>None</td>\n",
       "      <td>19</td>\n",
       "      <td>NaN</td>\n",
       "      <td>NaN</td>\n",
       "      <td>NaN</td>\n",
       "      <td>NaN</td>\n",
       "    </tr>\n",
       "    <tr>\n",
       "      <th>2</th>\n",
       "      <td>2024-02-19</td>\n",
       "      <td>Pectoraux</td>\n",
       "      <td>Développé Couché</td>\n",
       "      <td>60.0</td>\n",
       "      <td>6.0</td>\n",
       "      <td>None</td>\n",
       "      <td>19</td>\n",
       "      <td>NaN</td>\n",
       "      <td>NaN</td>\n",
       "      <td>NaN</td>\n",
       "      <td>NaN</td>\n",
       "    </tr>\n",
       "    <tr>\n",
       "      <th>3</th>\n",
       "      <td>2024-02-19</td>\n",
       "      <td>Pectoraux</td>\n",
       "      <td>Développé Couché</td>\n",
       "      <td>50.0</td>\n",
       "      <td>10.0</td>\n",
       "      <td>None</td>\n",
       "      <td>19</td>\n",
       "      <td>NaN</td>\n",
       "      <td>NaN</td>\n",
       "      <td>NaN</td>\n",
       "      <td>NaN</td>\n",
       "    </tr>\n",
       "    <tr>\n",
       "      <th>4</th>\n",
       "      <td>2024-02-19</td>\n",
       "      <td>Pectoraux</td>\n",
       "      <td>Développé Couché</td>\n",
       "      <td>50.0</td>\n",
       "      <td>9.0</td>\n",
       "      <td>None</td>\n",
       "      <td>19</td>\n",
       "      <td>NaN</td>\n",
       "      <td>NaN</td>\n",
       "      <td>NaN</td>\n",
       "      <td>NaN</td>\n",
       "    </tr>\n",
       "    <tr>\n",
       "      <th>...</th>\n",
       "      <td>...</td>\n",
       "      <td>...</td>\n",
       "      <td>...</td>\n",
       "      <td>...</td>\n",
       "      <td>...</td>\n",
       "      <td>...</td>\n",
       "      <td>...</td>\n",
       "      <td>...</td>\n",
       "      <td>...</td>\n",
       "      <td>...</td>\n",
       "      <td>...</td>\n",
       "    </tr>\n",
       "    <tr>\n",
       "      <th>33</th>\n",
       "      <td>2024-06-29</td>\n",
       "      <td>NaN</td>\n",
       "      <td>Tennis</td>\n",
       "      <td>NaN</td>\n",
       "      <td>NaN</td>\n",
       "      <td>NaN</td>\n",
       "      <td>19</td>\n",
       "      <td>Cardio</td>\n",
       "      <td>60.0</td>\n",
       "      <td>None</td>\n",
       "      <td>992.0</td>\n",
       "    </tr>\n",
       "    <tr>\n",
       "      <th>34</th>\n",
       "      <td>2024-06-30</td>\n",
       "      <td>NaN</td>\n",
       "      <td>Tennis</td>\n",
       "      <td>NaN</td>\n",
       "      <td>NaN</td>\n",
       "      <td>NaN</td>\n",
       "      <td>19</td>\n",
       "      <td>Cardio</td>\n",
       "      <td>60.0</td>\n",
       "      <td>None</td>\n",
       "      <td>993.0</td>\n",
       "    </tr>\n",
       "    <tr>\n",
       "      <th>35</th>\n",
       "      <td>2024-07-01</td>\n",
       "      <td>NaN</td>\n",
       "      <td>Stepper</td>\n",
       "      <td>NaN</td>\n",
       "      <td>NaN</td>\n",
       "      <td>NaN</td>\n",
       "      <td>19</td>\n",
       "      <td>Cardio</td>\n",
       "      <td>NaN</td>\n",
       "      <td>None</td>\n",
       "      <td>1012.0</td>\n",
       "    </tr>\n",
       "    <tr>\n",
       "      <th>36</th>\n",
       "      <td>2024-07-02</td>\n",
       "      <td>NaN</td>\n",
       "      <td>Tennis</td>\n",
       "      <td>NaN</td>\n",
       "      <td>NaN</td>\n",
       "      <td>NaN</td>\n",
       "      <td>19</td>\n",
       "      <td>Cardio</td>\n",
       "      <td>60.0</td>\n",
       "      <td>None</td>\n",
       "      <td>1026.0</td>\n",
       "    </tr>\n",
       "    <tr>\n",
       "      <th>37</th>\n",
       "      <td>2024-07-03</td>\n",
       "      <td>NaN</td>\n",
       "      <td>Cross-Trainning</td>\n",
       "      <td>NaN</td>\n",
       "      <td>NaN</td>\n",
       "      <td>NaN</td>\n",
       "      <td>19</td>\n",
       "      <td>Cardio</td>\n",
       "      <td>60.0</td>\n",
       "      <td>None</td>\n",
       "      <td>1046.0</td>\n",
       "    </tr>\n",
       "  </tbody>\n",
       "</table>\n",
       "<p>1270 rows × 11 columns</p>\n",
       "</div>"
      ],
      "text/plain": [
       "   date_seance     seance          exercice  poid  nombre_repetition  \\\n",
       "0   2024-02-19  Pectoraux  Développé Couché  60.0                6.0   \n",
       "1   2024-02-19  Pectoraux  Développé Couché  60.0                6.0   \n",
       "2   2024-02-19  Pectoraux  Développé Couché  60.0                6.0   \n",
       "3   2024-02-19  Pectoraux  Développé Couché  50.0               10.0   \n",
       "4   2024-02-19  Pectoraux  Développé Couché  50.0                9.0   \n",
       "..         ...        ...               ...   ...                ...   \n",
       "33  2024-06-29        NaN            Tennis   NaN                NaN   \n",
       "34  2024-06-30        NaN            Tennis   NaN                NaN   \n",
       "35  2024-07-01        NaN           Stepper   NaN                NaN   \n",
       "36  2024-07-02        NaN            Tennis   NaN                NaN   \n",
       "37  2024-07-03        NaN   Cross-Trainning   NaN                NaN   \n",
       "\n",
       "   commentaires  user_id   sport  duree commentaire      id  \n",
       "0          None       19     NaN    NaN         NaN     NaN  \n",
       "1          None       19     NaN    NaN         NaN     NaN  \n",
       "2          None       19     NaN    NaN         NaN     NaN  \n",
       "3          None       19     NaN    NaN         NaN     NaN  \n",
       "4          None       19     NaN    NaN         NaN     NaN  \n",
       "..          ...      ...     ...    ...         ...     ...  \n",
       "33          NaN       19  Cardio   60.0        None   992.0  \n",
       "34          NaN       19  Cardio   60.0        None   993.0  \n",
       "35          NaN       19  Cardio    NaN        None  1012.0  \n",
       "36          NaN       19  Cardio   60.0        None  1026.0  \n",
       "37          NaN       19  Cardio   60.0        None  1046.0  \n",
       "\n",
       "[1270 rows x 11 columns]"
      ]
     },
     "execution_count": 16,
     "metadata": {},
     "output_type": "execute_result"
    }
   ],
   "source": [
    "df_all_sport"
   ]
  },
  {
   "cell_type": "code",
   "execution_count": 17,
   "metadata": {},
   "outputs": [
    {
     "name": "stdout",
     "output_type": "stream",
     "text": [
      "<class 'pandas.core.frame.DataFrame'>\n",
      "Index: 1270 entries, 0 to 37\n",
      "Data columns (total 11 columns):\n",
      " #   Column             Non-Null Count  Dtype  \n",
      "---  ------             --------------  -----  \n",
      " 0   date_seance        1269 non-null   object \n",
      " 1   seance             1227 non-null   object \n",
      " 2   exercice           1269 non-null   object \n",
      " 3   poid               1158 non-null   float64\n",
      " 4   nombre_repetition  1228 non-null   float64\n",
      " 5   commentaires       29 non-null     object \n",
      " 6   user_id            1270 non-null   int64  \n",
      " 7   sport              38 non-null     object \n",
      " 8   duree              33 non-null     float64\n",
      " 9   commentaire        5 non-null      object \n",
      " 10  id                 38 non-null     float64\n",
      "dtypes: float64(4), int64(1), object(6)\n",
      "memory usage: 119.1+ KB\n"
     ]
    }
   ],
   "source": [
    "df_all_sport.info()"
   ]
  },
  {
   "cell_type": "code",
   "execution_count": 18,
   "metadata": {},
   "outputs": [],
   "source": [
    "df_all_sport[\"date_seance\"] = pd.to_datetime(df_all_sport[\"date_seance\"])\n",
    "\n"
   ]
  },
  {
   "cell_type": "code",
   "execution_count": 19,
   "metadata": {},
   "outputs": [],
   "source": [
    "def create_empty_timeserie(time_analyse:str)->pd.Series:\n",
    "    today_date = datetime.today().date()\n",
    "    if time_analyse == \"week\":\n",
    "        end_date = today_date - timedelta(weeks=1)\n",
    "    elif time_analyse == \"month\":\n",
    "        end_date = today_date - timedelta(days=30)\n",
    "    elif time_analyse == \"year\":\n",
    "        end_date = today_date - timedelta(days=365)\n",
    "    else:\n",
    "        raise ValueError(\"time_analyse must be 'week', 'month', or 'year'\")\n",
    "    \n",
    "    return pd.date_range(start=end_date, end=today_date)"
   ]
  },
  {
   "cell_type": "code",
   "execution_count": 20,
   "metadata": {},
   "outputs": [],
   "source": [
    "def filter_by_time_period(df_all_sport:pd.DataFrame, time_analyse:str) :\n",
    "    try : \n",
    "        df_all_sport[\"date_seance\"] = pd.to_datetime(df_all_sport[\"date_seance\"])\n",
    "    except: \n",
    "        print(\"donnée date_seance déjà transformé\")\n",
    "\n",
    "    date_series = create_empty_timeserie(time_analyse)\n",
    "    df_time_period = df_all_sport[\n",
    "    (df_all_sport[\"date_seance\"] > date_series.min()) & \n",
    "    (df_all_sport[\"date_seance\"] < date_series.max())\n",
    "]\n",
    "    return df_time_period"
   ]
  },
  {
   "cell_type": "code",
   "execution_count": 21,
   "metadata": {},
   "outputs": [
    {
     "data": {
      "text/html": [
       "<div>\n",
       "<style scoped>\n",
       "    .dataframe tbody tr th:only-of-type {\n",
       "        vertical-align: middle;\n",
       "    }\n",
       "\n",
       "    .dataframe tbody tr th {\n",
       "        vertical-align: top;\n",
       "    }\n",
       "\n",
       "    .dataframe thead th {\n",
       "        text-align: right;\n",
       "    }\n",
       "</style>\n",
       "<table border=\"1\" class=\"dataframe\">\n",
       "  <thead>\n",
       "    <tr style=\"text-align: right;\">\n",
       "      <th></th>\n",
       "      <th>date_seance</th>\n",
       "      <th>seance</th>\n",
       "      <th>exercice</th>\n",
       "      <th>poid</th>\n",
       "      <th>nombre_repetition</th>\n",
       "      <th>commentaires</th>\n",
       "      <th>user_id</th>\n",
       "      <th>sport</th>\n",
       "      <th>duree</th>\n",
       "      <th>commentaire</th>\n",
       "      <th>id</th>\n",
       "    </tr>\n",
       "  </thead>\n",
       "  <tbody>\n",
       "    <tr>\n",
       "      <th>158</th>\n",
       "      <td>2024-08-03</td>\n",
       "      <td>Bras</td>\n",
       "      <td>Triceps à la Poulie</td>\n",
       "      <td>36.0</td>\n",
       "      <td>12.0</td>\n",
       "      <td>None</td>\n",
       "      <td>19</td>\n",
       "      <td>NaN</td>\n",
       "      <td>NaN</td>\n",
       "      <td>NaN</td>\n",
       "      <td>NaN</td>\n",
       "    </tr>\n",
       "    <tr>\n",
       "      <th>159</th>\n",
       "      <td>2024-08-03</td>\n",
       "      <td>Bras</td>\n",
       "      <td>Triceps à la Poulie</td>\n",
       "      <td>41.0</td>\n",
       "      <td>12.0</td>\n",
       "      <td>None</td>\n",
       "      <td>19</td>\n",
       "      <td>NaN</td>\n",
       "      <td>NaN</td>\n",
       "      <td>NaN</td>\n",
       "      <td>NaN</td>\n",
       "    </tr>\n",
       "    <tr>\n",
       "      <th>160</th>\n",
       "      <td>2024-08-03</td>\n",
       "      <td>Bras</td>\n",
       "      <td>Triceps à la Poulie</td>\n",
       "      <td>25.3</td>\n",
       "      <td>12.0</td>\n",
       "      <td>None</td>\n",
       "      <td>19</td>\n",
       "      <td>NaN</td>\n",
       "      <td>NaN</td>\n",
       "      <td>NaN</td>\n",
       "      <td>NaN</td>\n",
       "    </tr>\n",
       "    <tr>\n",
       "      <th>161</th>\n",
       "      <td>2024-08-03</td>\n",
       "      <td>Bras</td>\n",
       "      <td>Triceps à la Poulie</td>\n",
       "      <td>25.3</td>\n",
       "      <td>11.0</td>\n",
       "      <td>None</td>\n",
       "      <td>19</td>\n",
       "      <td>NaN</td>\n",
       "      <td>NaN</td>\n",
       "      <td>NaN</td>\n",
       "      <td>NaN</td>\n",
       "    </tr>\n",
       "    <tr>\n",
       "      <th>162</th>\n",
       "      <td>2024-08-03</td>\n",
       "      <td>Bras</td>\n",
       "      <td>Triceps à la Poulie</td>\n",
       "      <td>25.3</td>\n",
       "      <td>11.0</td>\n",
       "      <td>None</td>\n",
       "      <td>19</td>\n",
       "      <td>NaN</td>\n",
       "      <td>NaN</td>\n",
       "      <td>NaN</td>\n",
       "      <td>NaN</td>\n",
       "    </tr>\n",
       "  </tbody>\n",
       "</table>\n",
       "</div>"
      ],
      "text/plain": [
       "    date_seance seance             exercice  poid  nombre_repetition  \\\n",
       "158  2024-08-03   Bras  Triceps à la Poulie  36.0               12.0   \n",
       "159  2024-08-03   Bras  Triceps à la Poulie  41.0               12.0   \n",
       "160  2024-08-03   Bras  Triceps à la Poulie  25.3               12.0   \n",
       "161  2024-08-03   Bras  Triceps à la Poulie  25.3               11.0   \n",
       "162  2024-08-03   Bras  Triceps à la Poulie  25.3               11.0   \n",
       "\n",
       "    commentaires  user_id sport  duree commentaire  id  \n",
       "158         None       19   NaN    NaN         NaN NaN  \n",
       "159         None       19   NaN    NaN         NaN NaN  \n",
       "160         None       19   NaN    NaN         NaN NaN  \n",
       "161         None       19   NaN    NaN         NaN NaN  \n",
       "162         None       19   NaN    NaN         NaN NaN  "
      ]
     },
     "execution_count": 21,
     "metadata": {},
     "output_type": "execute_result"
    }
   ],
   "source": [
    "df = filter_by_time_period(df_all_sport, \"month\")\n",
    "df.head()"
   ]
  },
  {
   "cell_type": "code",
   "execution_count": 22,
   "metadata": {},
   "outputs": [
    {
     "name": "stdout",
     "output_type": "stream",
     "text": [
      "        date  did_sport_this_day\n",
      "0 2024-07-31                   0\n",
      "1 2024-08-01                   0\n",
      "2 2024-08-02                   0\n",
      "3 2024-08-03                   1\n",
      "4 2024-08-04                   1\n"
     ]
    }
   ],
   "source": [
    "\n",
    "timeseries = create_empty_timeserie(time_analyse=\"month\")\n",
    "df_timeseries = pd.DataFrame(timeseries, columns=['date'])\n",
    "df_timeseries['did_sport_this_day'] = df_timeseries['date'].apply(lambda x: 1 if x in df['date_seance'].values else 0)\n",
    "print(df_timeseries.head())"
   ]
  },
  {
   "cell_type": "code",
   "execution_count": 23,
   "metadata": {},
   "outputs": [
    {
     "data": {
      "text/html": [
       "<div>\n",
       "<style scoped>\n",
       "    .dataframe tbody tr th:only-of-type {\n",
       "        vertical-align: middle;\n",
       "    }\n",
       "\n",
       "    .dataframe tbody tr th {\n",
       "        vertical-align: top;\n",
       "    }\n",
       "\n",
       "    .dataframe thead th {\n",
       "        text-align: right;\n",
       "    }\n",
       "</style>\n",
       "<table border=\"1\" class=\"dataframe\">\n",
       "  <thead>\n",
       "    <tr style=\"text-align: right;\">\n",
       "      <th></th>\n",
       "      <th>date</th>\n",
       "      <th>did_sport_this_day</th>\n",
       "    </tr>\n",
       "  </thead>\n",
       "  <tbody>\n",
       "    <tr>\n",
       "      <th>0</th>\n",
       "      <td>2024-07-31</td>\n",
       "      <td>0</td>\n",
       "    </tr>\n",
       "    <tr>\n",
       "      <th>1</th>\n",
       "      <td>2024-08-01</td>\n",
       "      <td>0</td>\n",
       "    </tr>\n",
       "    <tr>\n",
       "      <th>2</th>\n",
       "      <td>2024-08-02</td>\n",
       "      <td>0</td>\n",
       "    </tr>\n",
       "    <tr>\n",
       "      <th>3</th>\n",
       "      <td>2024-08-03</td>\n",
       "      <td>1</td>\n",
       "    </tr>\n",
       "    <tr>\n",
       "      <th>4</th>\n",
       "      <td>2024-08-04</td>\n",
       "      <td>1</td>\n",
       "    </tr>\n",
       "  </tbody>\n",
       "</table>\n",
       "</div>"
      ],
      "text/plain": [
       "        date  did_sport_this_day\n",
       "0 2024-07-31                   0\n",
       "1 2024-08-01                   0\n",
       "2 2024-08-02                   0\n",
       "3 2024-08-03                   1\n",
       "4 2024-08-04                   1"
      ]
     },
     "execution_count": 23,
     "metadata": {},
     "output_type": "execute_result"
    }
   ],
   "source": [
    "df_timeseries.head()"
   ]
  },
  {
   "cell_type": "code",
   "execution_count": 36,
   "metadata": {},
   "outputs": [
    {
     "data": {
      "text/plain": [
       "Timestamp('2024-08-30 00:00:00')"
      ]
     },
     "execution_count": 36,
     "metadata": {},
     "output_type": "execute_result"
    }
   ],
   "source": [
    "date_series.max()\n"
   ]
  },
  {
   "cell_type": "code",
   "execution_count": 35,
   "metadata": {},
   "outputs": [
    {
     "data": {
      "text/plain": [
       "Timestamp('2024-07-31 00:00:00')"
      ]
     },
     "execution_count": 35,
     "metadata": {},
     "output_type": "execute_result"
    }
   ],
   "source": [
    "date_series.min()\n"
   ]
  },
  {
   "cell_type": "code",
   "execution_count": 37,
   "metadata": {},
   "outputs": [
    {
     "data": {
      "image/png": "[encoded data removed]",
      "text/plain": [
       "<Figure size 640x480 with 1 Axes>"
      ]
     },
     "metadata": {},
     "output_type": "display_data"
    }
   ],
   "source": [
    "date_series = create_empty_timeserie(\"month\")\n",
    "plt.bar(df_timeseries[\"date\"], df_timeseries[\"did_sport_this_day\"])\n",
    "plt.xlim(date_series.min(), date_series.max())\n",
    "plt.show()"
   ]
  },
  {
   "cell_type": "code",
   "execution_count": 25,
   "metadata": {},
   "outputs": [],
   "source": [
    "def plot_seance_by_time_period(df:pd.DataFrame,time_analyse:str)-> None:\n",
    "    date_series = create_empty_timeserie(time_analyse)\n",
    "    \n",
    "   \n",
    "    "
   ]
  },
  {
   "cell_type": "code",
   "execution_count": 26,
   "metadata": {},
   "outputs": [],
   "source": [
    "df = filter_by_time_period(df_all_sport, \"year\")"
   ]
  },
  {
   "cell_type": "code",
   "execution_count": 27,
   "metadata": {},
   "outputs": [
    {
     "data": {
      "text/html": [
       "<div>\n",
       "<style scoped>\n",
       "    .dataframe tbody tr th:only-of-type {\n",
       "        vertical-align: middle;\n",
       "    }\n",
       "\n",
       "    .dataframe tbody tr th {\n",
       "        vertical-align: top;\n",
       "    }\n",
       "\n",
       "    .dataframe thead th {\n",
       "        text-align: right;\n",
       "    }\n",
       "</style>\n",
       "<table border=\"1\" class=\"dataframe\">\n",
       "  <thead>\n",
       "    <tr style=\"text-align: right;\">\n",
       "      <th></th>\n",
       "      <th>date_seance</th>\n",
       "      <th>seance</th>\n",
       "      <th>exercice</th>\n",
       "      <th>poid</th>\n",
       "      <th>nombre_repetition</th>\n",
       "      <th>commentaires</th>\n",
       "      <th>user_id</th>\n",
       "      <th>sport</th>\n",
       "      <th>duree</th>\n",
       "      <th>commentaire</th>\n",
       "      <th>id</th>\n",
       "    </tr>\n",
       "  </thead>\n",
       "  <tbody>\n",
       "    <tr>\n",
       "      <th>0</th>\n",
       "      <td>2024-02-19</td>\n",
       "      <td>Pectoraux</td>\n",
       "      <td>Développé Couché</td>\n",
       "      <td>60.0</td>\n",
       "      <td>6.0</td>\n",
       "      <td>None</td>\n",
       "      <td>19</td>\n",
       "      <td>NaN</td>\n",
       "      <td>NaN</td>\n",
       "      <td>NaN</td>\n",
       "      <td>NaN</td>\n",
       "    </tr>\n",
       "    <tr>\n",
       "      <th>1</th>\n",
       "      <td>2024-02-19</td>\n",
       "      <td>Pectoraux</td>\n",
       "      <td>Développé Couché</td>\n",
       "      <td>60.0</td>\n",
       "      <td>6.0</td>\n",
       "      <td>None</td>\n",
       "      <td>19</td>\n",
       "      <td>NaN</td>\n",
       "      <td>NaN</td>\n",
       "      <td>NaN</td>\n",
       "      <td>NaN</td>\n",
       "    </tr>\n",
       "    <tr>\n",
       "      <th>2</th>\n",
       "      <td>2024-02-19</td>\n",
       "      <td>Pectoraux</td>\n",
       "      <td>Développé Couché</td>\n",
       "      <td>60.0</td>\n",
       "      <td>6.0</td>\n",
       "      <td>None</td>\n",
       "      <td>19</td>\n",
       "      <td>NaN</td>\n",
       "      <td>NaN</td>\n",
       "      <td>NaN</td>\n",
       "      <td>NaN</td>\n",
       "    </tr>\n",
       "    <tr>\n",
       "      <th>3</th>\n",
       "      <td>2024-02-19</td>\n",
       "      <td>Pectoraux</td>\n",
       "      <td>Développé Couché</td>\n",
       "      <td>50.0</td>\n",
       "      <td>10.0</td>\n",
       "      <td>None</td>\n",
       "      <td>19</td>\n",
       "      <td>NaN</td>\n",
       "      <td>NaN</td>\n",
       "      <td>NaN</td>\n",
       "      <td>NaN</td>\n",
       "    </tr>\n",
       "    <tr>\n",
       "      <th>4</th>\n",
       "      <td>2024-02-19</td>\n",
       "      <td>Pectoraux</td>\n",
       "      <td>Développé Couché</td>\n",
       "      <td>50.0</td>\n",
       "      <td>9.0</td>\n",
       "      <td>None</td>\n",
       "      <td>19</td>\n",
       "      <td>NaN</td>\n",
       "      <td>NaN</td>\n",
       "      <td>NaN</td>\n",
       "      <td>NaN</td>\n",
       "    </tr>\n",
       "    <tr>\n",
       "      <th>...</th>\n",
       "      <td>...</td>\n",
       "      <td>...</td>\n",
       "      <td>...</td>\n",
       "      <td>...</td>\n",
       "      <td>...</td>\n",
       "      <td>...</td>\n",
       "      <td>...</td>\n",
       "      <td>...</td>\n",
       "      <td>...</td>\n",
       "      <td>...</td>\n",
       "      <td>...</td>\n",
       "    </tr>\n",
       "    <tr>\n",
       "      <th>33</th>\n",
       "      <td>2024-06-29</td>\n",
       "      <td>NaN</td>\n",
       "      <td>Tennis</td>\n",
       "      <td>NaN</td>\n",
       "      <td>NaN</td>\n",
       "      <td>NaN</td>\n",
       "      <td>19</td>\n",
       "      <td>Cardio</td>\n",
       "      <td>60.0</td>\n",
       "      <td>None</td>\n",
       "      <td>992.0</td>\n",
       "    </tr>\n",
       "    <tr>\n",
       "      <th>34</th>\n",
       "      <td>2024-06-30</td>\n",
       "      <td>NaN</td>\n",
       "      <td>Tennis</td>\n",
       "      <td>NaN</td>\n",
       "      <td>NaN</td>\n",
       "      <td>NaN</td>\n",
       "      <td>19</td>\n",
       "      <td>Cardio</td>\n",
       "      <td>60.0</td>\n",
       "      <td>None</td>\n",
       "      <td>993.0</td>\n",
       "    </tr>\n",
       "    <tr>\n",
       "      <th>35</th>\n",
       "      <td>2024-07-01</td>\n",
       "      <td>NaN</td>\n",
       "      <td>Stepper</td>\n",
       "      <td>NaN</td>\n",
       "      <td>NaN</td>\n",
       "      <td>NaN</td>\n",
       "      <td>19</td>\n",
       "      <td>Cardio</td>\n",
       "      <td>NaN</td>\n",
       "      <td>None</td>\n",
       "      <td>1012.0</td>\n",
       "    </tr>\n",
       "    <tr>\n",
       "      <th>36</th>\n",
       "      <td>2024-07-02</td>\n",
       "      <td>NaN</td>\n",
       "      <td>Tennis</td>\n",
       "      <td>NaN</td>\n",
       "      <td>NaN</td>\n",
       "      <td>NaN</td>\n",
       "      <td>19</td>\n",
       "      <td>Cardio</td>\n",
       "      <td>60.0</td>\n",
       "      <td>None</td>\n",
       "      <td>1026.0</td>\n",
       "    </tr>\n",
       "    <tr>\n",
       "      <th>37</th>\n",
       "      <td>2024-07-03</td>\n",
       "      <td>NaN</td>\n",
       "      <td>Cross-Trainning</td>\n",
       "      <td>NaN</td>\n",
       "      <td>NaN</td>\n",
       "      <td>NaN</td>\n",
       "      <td>19</td>\n",
       "      <td>Cardio</td>\n",
       "      <td>60.0</td>\n",
       "      <td>None</td>\n",
       "      <td>1046.0</td>\n",
       "    </tr>\n",
       "  </tbody>\n",
       "</table>\n",
       "<p>1172 rows × 11 columns</p>\n",
       "</div>"
      ],
      "text/plain": [
       "   date_seance     seance          exercice  poid  nombre_repetition  \\\n",
       "0   2024-02-19  Pectoraux  Développé Couché  60.0                6.0   \n",
       "1   2024-02-19  Pectoraux  Développé Couché  60.0                6.0   \n",
       "2   2024-02-19  Pectoraux  Développé Couché  60.0                6.0   \n",
       "3   2024-02-19  Pectoraux  Développé Couché  50.0               10.0   \n",
       "4   2024-02-19  Pectoraux  Développé Couché  50.0                9.0   \n",
       "..         ...        ...               ...   ...                ...   \n",
       "33  2024-06-29        NaN            Tennis   NaN                NaN   \n",
       "34  2024-06-30        NaN            Tennis   NaN                NaN   \n",
       "35  2024-07-01        NaN           Stepper   NaN                NaN   \n",
       "36  2024-07-02        NaN            Tennis   NaN                NaN   \n",
       "37  2024-07-03        NaN   Cross-Trainning   NaN                NaN   \n",
       "\n",
       "   commentaires  user_id   sport  duree commentaire      id  \n",
       "0          None       19     NaN    NaN         NaN     NaN  \n",
       "1          None       19     NaN    NaN         NaN     NaN  \n",
       "2          None       19     NaN    NaN         NaN     NaN  \n",
       "3          None       19     NaN    NaN         NaN     NaN  \n",
       "4          None       19     NaN    NaN         NaN     NaN  \n",
       "..          ...      ...     ...    ...         ...     ...  \n",
       "33          NaN       19  Cardio   60.0        None   992.0  \n",
       "34          NaN       19  Cardio   60.0        None   993.0  \n",
       "35          NaN       19  Cardio    NaN        None  1012.0  \n",
       "36          NaN       19  Cardio   60.0        None  1026.0  \n",
       "37          NaN       19  Cardio   60.0        None  1046.0  \n",
       "\n",
       "[1172 rows x 11 columns]"
      ]
     },
     "execution_count": 27,
     "metadata": {},
     "output_type": "execute_result"
    }
   ],
   "source": [
    "df"
   ]
  },
  {
   "cell_type": "code",
   "execution_count": 28,
   "metadata": {},
   "outputs": [],
   "source": [
    "def get_numerical_value(df_time_period:pd.DataFrame):\n",
    "    number_of_day =df_time_period[\"date_seance\"].ncount()\n",
    "    number_of_exercice = df_time_period.groupby(\"date_seance\")\n",
    "    return number_of_day\n",
    "\n"
   ]
  },
  {
   "cell_type": "code",
   "execution_count": 29,
   "metadata": {},
   "outputs": [],
   "source": [
    "number_of_exercice = df.groupby(\"exercice\").agg(\"count\")\n",
    "number_of_diferents_exercices = df[\"exercice\"].nunique()\n"
   ]
  },
  {
   "cell_type": "code",
   "execution_count": 30,
   "metadata": {},
   "outputs": [
    {
     "data": {
      "text/plain": [
       "array(['Développé Couché', 'Ecartés Poulie', 'Lat Pull',\n",
       "       'Seated Row Prise Verticale', 'Biceps Curls', 'Squat',\n",
       "       'Hip Thrust', 'Mollets sur Leg Press', 'Leg Press',\n",
       "       'Hip Adduction', 'Prone leg Curl', 'Triceps Pull Downs Poulie',\n",
       "       'Pec Fly', 'Biceps Curl Assis', 'Rear Delt', 'Hip Abduction',\n",
       "       'Leg Extension', 'Développé Incliné', 'Shoulder press',\n",
       "       'Dip Assist', 'Développé Incliné Haltères', 'Seated Row',\n",
       "       'Arm Curl', 'Élévations Latérales Haltères', 'Triceps à la Poulie',\n",
       "       'Triceps à la Poulie Inversée', 'Biceps Curl Allongé',\n",
       "       'Triceps à la poulie', 'Biceps Curl Poulie', 'Rotary Torso',\n",
       "       'Abdos Machine', 'Chest Press', 'Machine Abdominaux',\n",
       "       'Lower Back Bench', 'Back Extension',\n",
       "       'Diverging Seated Row Prise Verticale',\n",
       "       'Développé Militaire à la barre',\n",
       "       'Élévations Latérales à la Poulie', 'Converging Shoulder Press',\n",
       "       'Traction avec Élastique', 'Élévations Frontales Haltères',\n",
       "       'Développé Couché haltère', 'Dips', 'Diverging Seated Row',\n",
       "       'Triceps Doubles Chassées à la Poulie', 'Pectoraux à la poulie',\n",
       "       'Pectoraux à la poulie bas', 'Biceps Curl Prise Marteau',\n",
       "       'Développé Militaire Haltères', 'Low Row',\n",
       "       'Biceps Curl à la barre', 'Biceps curl allongé', 'Fentes',\n",
       "       'Pectoraux à la poulie haut', 'Élévation Frontale Disque',\n",
       "       'Rowing debout', 'Lat Pull prise Poignée',\n",
       "       'Développé Couché Prise Serrée', 'Rowing buste penché',\n",
       "       'Lateral Raise Poulie', 'Élévation Frontale Poulie', 'Abdominal',\n",
       "       'Diverging Lat Pull Down', 'Face Pull Down à la poulie',\n",
       "       'Développé Militaire', 'Abs Wheel',\n",
       "       'Développé Couché incliné haut', 'Rowing Menton', 'Tirage Menton',\n",
       "       'Triceps Double Chassées Croisé à la poulie',\n",
       "       'Biceps Curl Prise Marteau à la Poulie',\n",
       "       'Développé Couché incliné bas',\n",
       "       'Développé Militaire à la Smith Machine', 'Rowing Bar',\n",
       "       'Vélo Elliptique', 'Cross Trainning', 'Tennis', None,\n",
       "       'Course sur Tapis', 'Stepper', 'Cross-Trainning'], dtype=object)"
      ]
     },
     "execution_count": 30,
     "metadata": {},
     "output_type": "execute_result"
    }
   ],
   "source": [
    "df[\"exercice\"].unique()"
   ]
  },
  {
   "cell_type": "code",
   "execution_count": 31,
   "metadata": {},
   "outputs": [
    {
     "data": {
      "text/plain": [
       "80"
      ]
     },
     "execution_count": 31,
     "metadata": {},
     "output_type": "execute_result"
    }
   ],
   "source": [
    "number_of_diferents_exercices"
   ]
  },
  {
   "cell_type": "code",
   "execution_count": 32,
   "metadata": {},
   "outputs": [],
   "source": [
    "poid_portée = df[\"poid\"].sum()\n"
   ]
  },
  {
   "cell_type": "code",
   "execution_count": 33,
   "metadata": {},
   "outputs": [
    {
     "data": {
      "text/plain": [
       "np.float64(42335.8)"
      ]
     },
     "execution_count": 33,
     "metadata": {},
     "output_type": "execute_result"
    }
   ],
   "source": [
    "poid_portée"
   ]
  },
  {
   "cell_type": "code",
   "execution_count": null,
   "metadata": {},
   "outputs": [],
   "source": []
  },
  {
   "cell_type": "code",
   "execution_count": null,
   "metadata": {},
   "outputs": [],
   "source": []
  },
  {
   "cell_type": "code",
   "execution_count": null,
   "metadata": {},
   "outputs": [],
   "source": []
  },
  {
   "cell_type": "code",
   "execution_count": null,
   "metadata": {},
   "outputs": [],
   "source": []
  }
 ],
 "metadata": {
  "kernelspec": {
   "display_name": "Python 3 (ipykernel)",
   "language": "python",
   "name": "python3"
  },
  "language_info": {
   "codemirror_mode": {
    "name": "ipython",
    "version": 3
   },
   "file_extension": ".py",
   "mimetype": "text/x-python",
   "name": "python",
   "nbconvert_exporter": "python",
   "pygments_lexer": "ipython3",
   "version": "3.12.5"
  }
 },
 "nbformat": 4,
 "nbformat_minor": 4
}
