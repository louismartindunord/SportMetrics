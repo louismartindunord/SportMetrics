{
 "cells": [
  {
   "cell_type": "code",
   "execution_count": 1,
   "metadata": {},
   "outputs": [],
   "source": [
    "import pandas as pd \n",
    "import numpy as np\n",
    "from sqlalchemy import create_engine\n",
    "import psycopg2\n",
    "import os"
   ]
  },
  {
   "cell_type": "code",
   "execution_count": 24,
   "metadata": {},
   "outputs": [],
   "source": [
    "from dotenv import load_dotenv\n",
    "load_dotenv()\n",
    "\n",
    "DATABASE = os.getenv('DATABASE')\n",
    "HOST = os.getenv('HOST')\n",
    "USER = os.getenv('USER')\n",
    "PASSWORD = os.getenv('PASSWORD')\n",
    "PORT = os.getenv('PORT')\n"
   ]
  },
  {
   "cell_type": "markdown",
   "metadata": {},
   "source": [
    "## Extraction et mise en forme des données "
   ]
  },
  {
   "cell_type": "code",
   "execution_count": 2,
   "metadata": {},
   "outputs": [
    {
     "data": {
      "text/html": [
       "<div>\n",
       "<style scoped>\n",
       "    .dataframe tbody tr th:only-of-type {\n",
       "        vertical-align: middle;\n",
       "    }\n",
       "\n",
       "    .dataframe tbody tr th {\n",
       "        vertical-align: top;\n",
       "    }\n",
       "\n",
       "    .dataframe thead th {\n",
       "        text-align: right;\n",
       "    }\n",
       "</style>\n",
       "<table border=\"1\" class=\"dataframe\">\n",
       "  <thead>\n",
       "    <tr style=\"text-align: right;\">\n",
       "      <th></th>\n",
       "      <th>id</th>\n",
       "      <th>Date</th>\n",
       "      <th>Sport</th>\n",
       "      <th>Séance</th>\n",
       "      <th>Exercice</th>\n",
       "      <th>Durée</th>\n",
       "      <th>poid</th>\n",
       "      <th>Nbr_de_repetitions</th>\n",
       "      <th>Commentaire</th>\n",
       "    </tr>\n",
       "  </thead>\n",
       "  <tbody>\n",
       "    <tr>\n",
       "      <th>0</th>\n",
       "      <td>0</td>\n",
       "      <td>2024-02-19</td>\n",
       "      <td>Musculation</td>\n",
       "      <td>Pectoraux</td>\n",
       "      <td>Développé Couché</td>\n",
       "      <td>NaN</td>\n",
       "      <td>60.0</td>\n",
       "      <td>6.0</td>\n",
       "      <td>NaN</td>\n",
       "    </tr>\n",
       "    <tr>\n",
       "      <th>1</th>\n",
       "      <td>1</td>\n",
       "      <td>2024-02-19</td>\n",
       "      <td>Musculation</td>\n",
       "      <td>Pectoraux</td>\n",
       "      <td>Développé Couché</td>\n",
       "      <td>NaN</td>\n",
       "      <td>60.0</td>\n",
       "      <td>6.0</td>\n",
       "      <td>NaN</td>\n",
       "    </tr>\n",
       "    <tr>\n",
       "      <th>2</th>\n",
       "      <td>2</td>\n",
       "      <td>2024-02-19</td>\n",
       "      <td>Musculation</td>\n",
       "      <td>Pectoraux</td>\n",
       "      <td>Développé Couché</td>\n",
       "      <td>NaN</td>\n",
       "      <td>60.0</td>\n",
       "      <td>6.0</td>\n",
       "      <td>NaN</td>\n",
       "    </tr>\n",
       "    <tr>\n",
       "      <th>3</th>\n",
       "      <td>3</td>\n",
       "      <td>2024-02-19</td>\n",
       "      <td>Musculation</td>\n",
       "      <td>Pectoraux</td>\n",
       "      <td>Développé Couché</td>\n",
       "      <td>NaN</td>\n",
       "      <td>50.0</td>\n",
       "      <td>10.0</td>\n",
       "      <td>NaN</td>\n",
       "    </tr>\n",
       "    <tr>\n",
       "      <th>4</th>\n",
       "      <td>4</td>\n",
       "      <td>2024-02-19</td>\n",
       "      <td>Musculation</td>\n",
       "      <td>Pectoraux</td>\n",
       "      <td>Développé Couché</td>\n",
       "      <td>NaN</td>\n",
       "      <td>50.0</td>\n",
       "      <td>9.0</td>\n",
       "      <td>NaN</td>\n",
       "    </tr>\n",
       "  </tbody>\n",
       "</table>\n",
       "</div>"
      ],
      "text/plain": [
       "   id        Date        Sport     Séance          Exercice  Durée  poid  \\\n",
       "0   0  2024-02-19  Musculation  Pectoraux  Développé Couché    NaN  60.0   \n",
       "1   1  2024-02-19  Musculation  Pectoraux  Développé Couché    NaN  60.0   \n",
       "2   2  2024-02-19  Musculation  Pectoraux  Développé Couché    NaN  60.0   \n",
       "3   3  2024-02-19  Musculation  Pectoraux  Développé Couché    NaN  50.0   \n",
       "4   4  2024-02-19  Musculation  Pectoraux  Développé Couché    NaN  50.0   \n",
       "\n",
       "   Nbr_de_repetitions Commentaire  \n",
       "0                 6.0         NaN  \n",
       "1                 6.0         NaN  \n",
       "2                 6.0         NaN  \n",
       "3                10.0         NaN  \n",
       "4                 9.0         NaN  "
      ]
     },
     "execution_count": 2,
     "metadata": {},
     "output_type": "execute_result"
    }
   ],
   "source": [
    "df = pd.read_csv('../datas/data_sport.csv', delimiter=',',on_bad_lines='skip', decimal='.')\n",
    "df.head()"
   ]
  },
  {
   "cell_type": "code",
   "execution_count": 3,
   "metadata": {},
   "outputs": [],
   "source": [
    "def clean_data(x): \n",
    "    x = str(x)\n",
    "    x = x.replace(',','.')\n",
    "    x = x.replace('\\xa0', '')\n",
    "    return float(x)\n",
    "\n"
   ]
  },
  {
   "cell_type": "code",
   "execution_count": 5,
   "metadata": {},
   "outputs": [],
   "source": [
    "\n",
    "df[\"poid\"] = df[\"poid\"].apply(clean_data) \n",
    "df[\"poid\"] = df[\"poid\"].astype(\"float\")\n"
   ]
  },
  {
   "cell_type": "code",
   "execution_count": null,
   "metadata": {},
   "outputs": [],
   "source": [
    "df[\"Date\"] =  pd.to_datetime(df[\"Date\"])\n"
   ]
  },
  {
   "cell_type": "code",
   "execution_count": 6,
   "metadata": {},
   "outputs": [],
   "source": [
    "df[\"Nbr_de_repetitions\"] = df[\"Nbr_de_repetitions\"].replace('max',5 )\n",
    "df[\"Nbr_de_repetitions\"] = df[\"Nbr_de_repetitions\"].apply(clean_data) \n",
    "df[\"Nbr_de_repetitions\"] = df[\"Nbr_de_repetitions\"].astype(\"float\")"
   ]
  },
  {
   "cell_type": "code",
   "execution_count": 8,
   "metadata": {},
   "outputs": [],
   "source": [
    "df[\"Durée (min)\"] = df[\"Durée\"].replace(\"Nan\", np.nan)\n",
    "df[\"Durée (min)\"] = df[\"Durée\"].replace(\"7,2\", 7.2)\n",
    "df[\"Durée\"] = df[\"Durée\"].astype(\"float\")\n"
   ]
  },
  {
   "cell_type": "code",
   "execution_count": 9,
   "metadata": {},
   "outputs": [],
   "source": [
    "df = df[[\"Date\",\"Sport\",\"Séance\",\"Exercice\",\"Durée\",\"poid\",\"Nbr_de_repetitions\",'Commentaire']]"
   ]
  },
  {
   "cell_type": "code",
   "execution_count": 10,
   "metadata": {},
   "outputs": [
    {
     "name": "stderr",
     "output_type": "stream",
     "text": [
      "/var/folders/p5/j7xh751d45s4z0kzc_3gql0h0000gn/T/ipykernel_60174/2793045622.py:1: SettingWithCopyWarning: \n",
      "A value is trying to be set on a copy of a slice from a DataFrame.\n",
      "Try using .loc[row_indexer,col_indexer] = value instead\n",
      "\n",
      "See the caveats in the documentation: https://pandas.pydata.org/pandas-docs/stable/user_guide/indexing.html#returning-a-view-versus-a-copy\n",
      "  df[\"id\"] = df.index\n"
     ]
    }
   ],
   "source": [
    "df[\"id\"] = df.index"
   ]
  },
  {
   "cell_type": "markdown",
   "metadata": {},
   "source": [
    "## Remplissage de la table musculation_exercices"
   ]
  },
  {
   "cell_type": "code",
   "execution_count": 30,
   "metadata": {},
   "outputs": [],
   "source": [
    "df_musculation_exercices = df.loc[df[\"Sport\"]==\"Musculation\"]\n",
    "df_musculation_exercices = df_musculation_exercices[[\"Séance\",\"Exercice\"]]\n",
    "df_musculation_exercices = df_musculation_exercices.rename({\"Séance\":\"muscle_area\",\"Exercice\":\"musculation_exercice_name\"},axis=1)\n",
    "df_musculation_exercices = df_musculation_exercices.drop_duplicates(subset=[\"muscle_area\",\"musculation_exercice_name\"])"
   ]
  },
  {
   "cell_type": "code",
   "execution_count": 31,
   "metadata": {},
   "outputs": [
    {
     "data": {
      "text/html": [
       "<div>\n",
       "<style scoped>\n",
       "    .dataframe tbody tr th:only-of-type {\n",
       "        vertical-align: middle;\n",
       "    }\n",
       "\n",
       "    .dataframe tbody tr th {\n",
       "        vertical-align: top;\n",
       "    }\n",
       "\n",
       "    .dataframe thead th {\n",
       "        text-align: right;\n",
       "    }\n",
       "</style>\n",
       "<table border=\"1\" class=\"dataframe\">\n",
       "  <thead>\n",
       "    <tr style=\"text-align: right;\">\n",
       "      <th></th>\n",
       "      <th>muscle_area</th>\n",
       "      <th>musculation_exercice_name</th>\n",
       "    </tr>\n",
       "  </thead>\n",
       "  <tbody>\n",
       "    <tr>\n",
       "      <th>0</th>\n",
       "      <td>Pectoraux</td>\n",
       "      <td>Développé Couché</td>\n",
       "    </tr>\n",
       "    <tr>\n",
       "      <th>6</th>\n",
       "      <td>Pectoraux</td>\n",
       "      <td>Ecartés Poulie</td>\n",
       "    </tr>\n",
       "    <tr>\n",
       "      <th>10</th>\n",
       "      <td>Dos</td>\n",
       "      <td>Lat Pull</td>\n",
       "    </tr>\n",
       "    <tr>\n",
       "      <th>17</th>\n",
       "      <td>Dos</td>\n",
       "      <td>Seated Row Prise Verticale</td>\n",
       "    </tr>\n",
       "    <tr>\n",
       "      <th>23</th>\n",
       "      <td>Dos</td>\n",
       "      <td>Biceps Curls</td>\n",
       "    </tr>\n",
       "  </tbody>\n",
       "</table>\n",
       "</div>"
      ],
      "text/plain": [
       "   muscle_area   musculation_exercice_name\n",
       "0    Pectoraux            Développé Couché\n",
       "6    Pectoraux              Ecartés Poulie\n",
       "10         Dos                    Lat Pull\n",
       "17         Dos  Seated Row Prise Verticale\n",
       "23         Dos                Biceps Curls"
      ]
     },
     "execution_count": 31,
     "metadata": {},
     "output_type": "execute_result"
    }
   ],
   "source": [
    "df_musculation_exercices.shape[0]\n",
    "df_musculation_exercices.head()"
   ]
  },
  {
   "cell_type": "code",
   "execution_count": 32,
   "metadata": {},
   "outputs": [
    {
     "data": {
      "text/plain": [
       "97"
      ]
     },
     "execution_count": 32,
     "metadata": {},
     "output_type": "execute_result"
    }
   ],
   "source": [
    "connection_string = f\"postgresql+psycopg2://{USER}:{PASSWORD}@{HOST}:{PORT}/{DATABASE}\"\n",
    "engine = create_engine(connection_string)\n",
    "\n",
    "table_name =\"musculation_exercices\"\n",
    "df_musculation_exercices.to_sql(table_name, engine, if_exists='replace', index=False)\n"
   ]
  },
  {
   "cell_type": "code",
   "execution_count": 33,
   "metadata": {},
   "outputs": [],
   "source": [
    "## Remplissage de la table musculation_rows"
   ]
  },
  {
   "cell_type": "code",
   "execution_count": 35,
   "metadata": {},
   "outputs": [],
   "source": [
    "df_musculation = df.loc[df[\"Sport\"]==\"Musculation\"]\n",
    "df_musculation = df_musculation.drop(\"Durée\",axis=1)"
   ]
  },
  {
   "cell_type": "code",
   "execution_count": 38,
   "metadata": {},
   "outputs": [
    {
     "data": {
      "text/html": [
       "<div>\n",
       "<style scoped>\n",
       "    .dataframe tbody tr th:only-of-type {\n",
       "        vertical-align: middle;\n",
       "    }\n",
       "\n",
       "    .dataframe tbody tr th {\n",
       "        vertical-align: top;\n",
       "    }\n",
       "\n",
       "    .dataframe thead th {\n",
       "        text-align: right;\n",
       "    }\n",
       "</style>\n",
       "<table border=\"1\" class=\"dataframe\">\n",
       "  <thead>\n",
       "    <tr style=\"text-align: right;\">\n",
       "      <th></th>\n",
       "      <th>date_seance</th>\n",
       "      <th>Sport</th>\n",
       "      <th>MuscleArea</th>\n",
       "      <th>Exercice</th>\n",
       "      <th>Durée</th>\n",
       "      <th>Poid</th>\n",
       "      <th>NbrRepetition</th>\n",
       "      <th>Comments</th>\n",
       "      <th>SportSeanceId</th>\n",
       "    </tr>\n",
       "  </thead>\n",
       "  <tbody>\n",
       "    <tr>\n",
       "      <th>0</th>\n",
       "      <td>2024-02-19</td>\n",
       "      <td>Musculation</td>\n",
       "      <td>Pectoraux</td>\n",
       "      <td>Développé Couché</td>\n",
       "      <td>NaN</td>\n",
       "      <td>60.0</td>\n",
       "      <td>6.0</td>\n",
       "      <td>NaN</td>\n",
       "      <td>0</td>\n",
       "    </tr>\n",
       "    <tr>\n",
       "      <th>1</th>\n",
       "      <td>2024-02-19</td>\n",
       "      <td>Musculation</td>\n",
       "      <td>Pectoraux</td>\n",
       "      <td>Développé Couché</td>\n",
       "      <td>NaN</td>\n",
       "      <td>60.0</td>\n",
       "      <td>6.0</td>\n",
       "      <td>NaN</td>\n",
       "      <td>1</td>\n",
       "    </tr>\n",
       "    <tr>\n",
       "      <th>2</th>\n",
       "      <td>2024-02-19</td>\n",
       "      <td>Musculation</td>\n",
       "      <td>Pectoraux</td>\n",
       "      <td>Développé Couché</td>\n",
       "      <td>NaN</td>\n",
       "      <td>60.0</td>\n",
       "      <td>6.0</td>\n",
       "      <td>NaN</td>\n",
       "      <td>2</td>\n",
       "    </tr>\n",
       "    <tr>\n",
       "      <th>3</th>\n",
       "      <td>2024-02-19</td>\n",
       "      <td>Musculation</td>\n",
       "      <td>Pectoraux</td>\n",
       "      <td>Développé Couché</td>\n",
       "      <td>NaN</td>\n",
       "      <td>50.0</td>\n",
       "      <td>10.0</td>\n",
       "      <td>NaN</td>\n",
       "      <td>3</td>\n",
       "    </tr>\n",
       "    <tr>\n",
       "      <th>4</th>\n",
       "      <td>2024-02-19</td>\n",
       "      <td>Musculation</td>\n",
       "      <td>Pectoraux</td>\n",
       "      <td>Développé Couché</td>\n",
       "      <td>NaN</td>\n",
       "      <td>50.0</td>\n",
       "      <td>9.0</td>\n",
       "      <td>NaN</td>\n",
       "      <td>4</td>\n",
       "    </tr>\n",
       "    <tr>\n",
       "      <th>...</th>\n",
       "      <td>...</td>\n",
       "      <td>...</td>\n",
       "      <td>...</td>\n",
       "      <td>...</td>\n",
       "      <td>...</td>\n",
       "      <td>...</td>\n",
       "      <td>...</td>\n",
       "      <td>...</td>\n",
       "      <td>...</td>\n",
       "    </tr>\n",
       "    <tr>\n",
       "      <th>637</th>\n",
       "      <td>2024-05-27</td>\n",
       "      <td>Musculation</td>\n",
       "      <td>Pectoraux</td>\n",
       "      <td>Pec Fly</td>\n",
       "      <td>NaN</td>\n",
       "      <td>66.0</td>\n",
       "      <td>12.0</td>\n",
       "      <td>NaN</td>\n",
       "      <td>637</td>\n",
       "    </tr>\n",
       "    <tr>\n",
       "      <th>638</th>\n",
       "      <td>2024-05-27</td>\n",
       "      <td>Musculation</td>\n",
       "      <td>Pectoraux</td>\n",
       "      <td>Pec Fly</td>\n",
       "      <td>NaN</td>\n",
       "      <td>66.0</td>\n",
       "      <td>12.0</td>\n",
       "      <td>NaN</td>\n",
       "      <td>638</td>\n",
       "    </tr>\n",
       "    <tr>\n",
       "      <th>639</th>\n",
       "      <td>2024-05-27</td>\n",
       "      <td>Musculation</td>\n",
       "      <td>Pectoraux</td>\n",
       "      <td>Pec Fly</td>\n",
       "      <td>NaN</td>\n",
       "      <td>66.0</td>\n",
       "      <td>12.0</td>\n",
       "      <td>NaN</td>\n",
       "      <td>639</td>\n",
       "    </tr>\n",
       "    <tr>\n",
       "      <th>640</th>\n",
       "      <td>2024-05-27</td>\n",
       "      <td>Musculation</td>\n",
       "      <td>Pectoraux</td>\n",
       "      <td>Pec Fly</td>\n",
       "      <td>NaN</td>\n",
       "      <td>66.0</td>\n",
       "      <td>12.0</td>\n",
       "      <td>NaN</td>\n",
       "      <td>640</td>\n",
       "    </tr>\n",
       "    <tr>\n",
       "      <th>641</th>\n",
       "      <td>2024-05-27</td>\n",
       "      <td>Musculation</td>\n",
       "      <td>Pectoraux</td>\n",
       "      <td>Pec Fly</td>\n",
       "      <td>NaN</td>\n",
       "      <td>66.0</td>\n",
       "      <td>12.0</td>\n",
       "      <td>trop léger même pour fin de séance</td>\n",
       "      <td>641</td>\n",
       "    </tr>\n",
       "  </tbody>\n",
       "</table>\n",
       "<p>642 rows × 9 columns</p>\n",
       "</div>"
      ],
      "text/plain": [
       "    date_seance        Sport MuscleArea          Exercice  Durée  Poid  \\\n",
       "0    2024-02-19  Musculation  Pectoraux  Développé Couché    NaN  60.0   \n",
       "1    2024-02-19  Musculation  Pectoraux  Développé Couché    NaN  60.0   \n",
       "2    2024-02-19  Musculation  Pectoraux  Développé Couché    NaN  60.0   \n",
       "3    2024-02-19  Musculation  Pectoraux  Développé Couché    NaN  50.0   \n",
       "4    2024-02-19  Musculation  Pectoraux  Développé Couché    NaN  50.0   \n",
       "..          ...          ...        ...               ...    ...   ...   \n",
       "637  2024-05-27  Musculation  Pectoraux           Pec Fly    NaN  66.0   \n",
       "638  2024-05-27  Musculation  Pectoraux           Pec Fly    NaN  66.0   \n",
       "639  2024-05-27  Musculation  Pectoraux           Pec Fly    NaN  66.0   \n",
       "640  2024-05-27  Musculation  Pectoraux           Pec Fly    NaN  66.0   \n",
       "641  2024-05-27  Musculation  Pectoraux           Pec Fly    NaN  66.0   \n",
       "\n",
       "     NbrRepetition                            Comments  SportSeanceId  \n",
       "0              6.0                                 NaN              0  \n",
       "1              6.0                                 NaN              1  \n",
       "2              6.0                                 NaN              2  \n",
       "3             10.0                                 NaN              3  \n",
       "4              9.0                                 NaN              4  \n",
       "..             ...                                 ...            ...  \n",
       "637           12.0                                 NaN            637  \n",
       "638           12.0                                 NaN            638  \n",
       "639           12.0                                 NaN            639  \n",
       "640           12.0                                 NaN            640  \n",
       "641           12.0  trop léger même pour fin de séance            641  \n",
       "\n",
       "[642 rows x 9 columns]"
      ]
     },
     "execution_count": 38,
     "metadata": {},
     "output_type": "execute_result"
    }
   ],
   "source": [
    "df_musculation =df.rename(columns={\"Date\":\"date_seance\",\"Séance\":\"MuscleArea\",\"Exercice\":\"Exercice\",\"poid\":\"Poid\",\"Nbr_de_repetitions\":\"NbrRepetition\",\"Commentaire\":\"Comments\",\"id\":\"SportSeanceId\"})\n",
    "df_musculation"
   ]
  },
  {
   "cell_type": "code",
   "execution_count": 39,
   "metadata": {},
   "outputs": [],
   "source": [
    "df_musculation = df_musculation.drop([\"Sport\",\"Durée\"], axis=1)"
   ]
  },
  {
   "cell_type": "code",
   "execution_count": 40,
   "metadata": {},
   "outputs": [],
   "source": [
    "df_musculation = df_musculation.dropna(subset=[\"Poid\",\"NbrRepetition\"])"
   ]
  },
  {
   "cell_type": "code",
   "execution_count": 41,
   "metadata": {},
   "outputs": [
    {
     "data": {
      "text/plain": [
       "599"
      ]
     },
     "execution_count": 41,
     "metadata": {},
     "output_type": "execute_result"
    }
   ],
   "source": [
    "connection_string = f\"postgresql+psycopg2://{USER}:{PASSWORD}@{HOST}:{PORT}/{DATABASE}\"\n",
    "engine = create_engine(connection_string)\n",
    "\n",
    "table_name =\"musculation_rows\"\n",
    "df_musculation.to_sql(table_name, engine, if_exists='replace', index=False)\n"
   ]
  },
  {
   "cell_type": "markdown",
   "metadata": {},
   "source": [
    "## Remplissage de la table sport_rows"
   ]
  },
  {
   "cell_type": "code",
   "execution_count": 49,
   "metadata": {},
   "outputs": [],
   "source": [
    "df_sport = df.loc[df[\"Sport\"]!=\"Musculation\"]"
   ]
  },
  {
   "cell_type": "code",
   "execution_count": 50,
   "metadata": {},
   "outputs": [
    {
     "data": {
      "text/plain": [
       "Index(['Date', 'Sport', 'Séance', 'Exercice', 'Durée', 'poid',\n",
       "       'Nbr_de_repetitions', 'Commentaire', 'id'],\n",
       "      dtype='object')"
      ]
     },
     "execution_count": 50,
     "metadata": {},
     "output_type": "execute_result"
    }
   ],
   "source": [
    "df_sport.columns"
   ]
  },
  {
   "cell_type": "code",
   "execution_count": 58,
   "metadata": {},
   "outputs": [
    {
     "data": {
      "text/plain": [
       "Index(['date_seance', 'Sport', 'Séance', 'Exercice', 'Durée', 'poid',\n",
       "       'Nbr_de_repetitions', 'Commentaire', 'id'],\n",
       "      dtype='object')"
      ]
     },
     "execution_count": 58,
     "metadata": {},
     "output_type": "execute_result"
    }
   ],
   "source": [
    "df_sport.columns"
   ]
  },
  {
   "cell_type": "code",
   "execution_count": 57,
   "metadata": {},
   "outputs": [],
   "source": [
    "df_sport = df_sport.rename({\"Date\":\"date_seance\",\"Sport\":\"Sport\",\"Durée\":\"Durée\",\"Commentaire\":\"Commentaire\",\"id\":\"id\"},axis=1)"
   ]
  },
  {
   "cell_type": "code",
   "execution_count": 60,
   "metadata": {},
   "outputs": [
    {
     "data": {
      "text/html": [
       "<div>\n",
       "<style scoped>\n",
       "    .dataframe tbody tr th:only-of-type {\n",
       "        vertical-align: middle;\n",
       "    }\n",
       "\n",
       "    .dataframe tbody tr th {\n",
       "        vertical-align: top;\n",
       "    }\n",
       "\n",
       "    .dataframe thead th {\n",
       "        text-align: right;\n",
       "    }\n",
       "</style>\n",
       "<table border=\"1\" class=\"dataframe\">\n",
       "  <thead>\n",
       "    <tr style=\"text-align: right;\">\n",
       "      <th></th>\n",
       "      <th>date_seance</th>\n",
       "      <th>Sport</th>\n",
       "      <th>Exercice</th>\n",
       "      <th>Durée</th>\n",
       "      <th>Commentaire</th>\n",
       "      <th>id</th>\n",
       "    </tr>\n",
       "  </thead>\n",
       "  <tbody>\n",
       "    <tr>\n",
       "      <th>26</th>\n",
       "      <td>2024-02-24</td>\n",
       "      <td>Cardio</td>\n",
       "      <td>Vélo Elliptique</td>\n",
       "      <td>30.0</td>\n",
       "      <td>NaN</td>\n",
       "      <td>26</td>\n",
       "    </tr>\n",
       "    <tr>\n",
       "      <th>27</th>\n",
       "      <td>2024-02-24</td>\n",
       "      <td>Cardio</td>\n",
       "      <td>Cross Trainning</td>\n",
       "      <td>30.0</td>\n",
       "      <td>NaN</td>\n",
       "      <td>27</td>\n",
       "    </tr>\n",
       "    <tr>\n",
       "      <th>28</th>\n",
       "      <td>2024-02-24</td>\n",
       "      <td>Cardio</td>\n",
       "      <td>Tennis</td>\n",
       "      <td>60.0</td>\n",
       "      <td>NaN</td>\n",
       "      <td>28</td>\n",
       "    </tr>\n",
       "    <tr>\n",
       "      <th>95</th>\n",
       "      <td>2024-02-03</td>\n",
       "      <td>Cardio</td>\n",
       "      <td>Cross Trainning</td>\n",
       "      <td>NaN</td>\n",
       "      <td>20 pompes \\n20 ballons mur en équilibres \\n12 ...</td>\n",
       "      <td>95</td>\n",
       "    </tr>\n",
       "    <tr>\n",
       "      <th>143</th>\n",
       "      <td>2024-04-03</td>\n",
       "      <td>Cardio</td>\n",
       "      <td>Tennis</td>\n",
       "      <td>60.0</td>\n",
       "      <td>NaN</td>\n",
       "      <td>143</td>\n",
       "    </tr>\n",
       "    <tr>\n",
       "      <th>159</th>\n",
       "      <td>2024-07-03</td>\n",
       "      <td>Cardio</td>\n",
       "      <td>Vélo Elliptique</td>\n",
       "      <td>25.0</td>\n",
       "      <td>NaN</td>\n",
       "      <td>159</td>\n",
       "    </tr>\n",
       "    <tr>\n",
       "      <th>160</th>\n",
       "      <td>2024-07-03</td>\n",
       "      <td>Cardio</td>\n",
       "      <td>NaN</td>\n",
       "      <td>NaN</td>\n",
       "      <td>Pompes\\nEpaules\\nAbdo allongée jambes levée \\n...</td>\n",
       "      <td>160</td>\n",
       "    </tr>\n",
       "    <tr>\n",
       "      <th>188</th>\n",
       "      <td>2024-10-03</td>\n",
       "      <td>Cardio</td>\n",
       "      <td>Tennis</td>\n",
       "      <td>60.0</td>\n",
       "      <td>NaN</td>\n",
       "      <td>188</td>\n",
       "    </tr>\n",
       "    <tr>\n",
       "      <th>225</th>\n",
       "      <td>2024-03-24</td>\n",
       "      <td>Cardio</td>\n",
       "      <td>Tennis</td>\n",
       "      <td>60.0</td>\n",
       "      <td>NaN</td>\n",
       "      <td>225</td>\n",
       "    </tr>\n",
       "    <tr>\n",
       "      <th>226</th>\n",
       "      <td>2024-03-25</td>\n",
       "      <td>Cardio</td>\n",
       "      <td>Vélo Elliptique</td>\n",
       "      <td>30.0</td>\n",
       "      <td>intensité 13 calorie 381 distances 2,72 km</td>\n",
       "      <td>226</td>\n",
       "    </tr>\n",
       "    <tr>\n",
       "      <th>311</th>\n",
       "      <td>2024-04-19</td>\n",
       "      <td>Cardio</td>\n",
       "      <td>Course sur Tapis</td>\n",
       "      <td>7.2</td>\n",
       "      <td>Intensité 8</td>\n",
       "      <td>311</td>\n",
       "    </tr>\n",
       "    <tr>\n",
       "      <th>337</th>\n",
       "      <td>2024-04-27</td>\n",
       "      <td>Cardio</td>\n",
       "      <td>Vélo Elliptique</td>\n",
       "      <td>25.0</td>\n",
       "      <td>NaN</td>\n",
       "      <td>337</td>\n",
       "    </tr>\n",
       "    <tr>\n",
       "      <th>338</th>\n",
       "      <td>NaN</td>\n",
       "      <td>Cardio</td>\n",
       "      <td>Cross Trainning</td>\n",
       "      <td>NaN</td>\n",
       "      <td>Séance de Cardio : \\n Pompes \\n Squat 15kg x15...</td>\n",
       "      <td>338</td>\n",
       "    </tr>\n",
       "    <tr>\n",
       "      <th>374</th>\n",
       "      <td>2024-02-05</td>\n",
       "      <td>Cardio</td>\n",
       "      <td>Cross Trainning</td>\n",
       "      <td>60.0</td>\n",
       "      <td>NaN</td>\n",
       "      <td>374</td>\n",
       "    </tr>\n",
       "    <tr>\n",
       "      <th>457</th>\n",
       "      <td>2024-05-13</td>\n",
       "      <td>Cardio</td>\n",
       "      <td>Vélo Elliptique</td>\n",
       "      <td>30.0</td>\n",
       "      <td>NaN</td>\n",
       "      <td>457</td>\n",
       "    </tr>\n",
       "    <tr>\n",
       "      <th>466</th>\n",
       "      <td>2024-05-13</td>\n",
       "      <td>Cardio</td>\n",
       "      <td>Vélo Elliptique</td>\n",
       "      <td>10.0</td>\n",
       "      <td>NaN</td>\n",
       "      <td>466</td>\n",
       "    </tr>\n",
       "    <tr>\n",
       "      <th>467</th>\n",
       "      <td>2024-05-13</td>\n",
       "      <td>Cardio</td>\n",
       "      <td>Cross Trainning</td>\n",
       "      <td>60.0</td>\n",
       "      <td>NaN</td>\n",
       "      <td>467</td>\n",
       "    </tr>\n",
       "    <tr>\n",
       "      <th>487</th>\n",
       "      <td>2024-05-15</td>\n",
       "      <td>Cardio</td>\n",
       "      <td>Tennis</td>\n",
       "      <td>60.0</td>\n",
       "      <td>NaN</td>\n",
       "      <td>487</td>\n",
       "    </tr>\n",
       "    <tr>\n",
       "      <th>507</th>\n",
       "      <td>2024-05-18</td>\n",
       "      <td>Cardio</td>\n",
       "      <td>Cross Trainning</td>\n",
       "      <td>60.0</td>\n",
       "      <td>NaN</td>\n",
       "      <td>507</td>\n",
       "    </tr>\n",
       "    <tr>\n",
       "      <th>554</th>\n",
       "      <td>2024-05-21</td>\n",
       "      <td>Cardio</td>\n",
       "      <td>Course sur Tapis</td>\n",
       "      <td>NaN</td>\n",
       "      <td>NaN</td>\n",
       "      <td>554</td>\n",
       "    </tr>\n",
       "    <tr>\n",
       "      <th>569</th>\n",
       "      <td>2024-05-21</td>\n",
       "      <td>Cardio</td>\n",
       "      <td>Tennis</td>\n",
       "      <td>60.0</td>\n",
       "      <td>NaN</td>\n",
       "      <td>569</td>\n",
       "    </tr>\n",
       "    <tr>\n",
       "      <th>570</th>\n",
       "      <td>2024-05-21</td>\n",
       "      <td>Cardio</td>\n",
       "      <td>Cross Trainning</td>\n",
       "      <td>60.0</td>\n",
       "      <td>NaN</td>\n",
       "      <td>570</td>\n",
       "    </tr>\n",
       "    <tr>\n",
       "      <th>571</th>\n",
       "      <td>2024-05-22</td>\n",
       "      <td>Cardio</td>\n",
       "      <td>Vélo Elliptique</td>\n",
       "      <td>30.0</td>\n",
       "      <td>NaN</td>\n",
       "      <td>571</td>\n",
       "    </tr>\n",
       "    <tr>\n",
       "      <th>594</th>\n",
       "      <td>2024-05-23</td>\n",
       "      <td>Cardio</td>\n",
       "      <td>Tennis</td>\n",
       "      <td>60.0</td>\n",
       "      <td>NaN</td>\n",
       "      <td>594</td>\n",
       "    </tr>\n",
       "  </tbody>\n",
       "</table>\n",
       "</div>"
      ],
      "text/plain": [
       "    date_seance   Sport          Exercice  Durée  \\\n",
       "26   2024-02-24  Cardio   Vélo Elliptique   30.0   \n",
       "27   2024-02-24  Cardio   Cross Trainning   30.0   \n",
       "28   2024-02-24  Cardio            Tennis   60.0   \n",
       "95   2024-02-03  Cardio   Cross Trainning    NaN   \n",
       "143  2024-04-03  Cardio            Tennis   60.0   \n",
       "159  2024-07-03  Cardio   Vélo Elliptique   25.0   \n",
       "160  2024-07-03  Cardio               NaN    NaN   \n",
       "188  2024-10-03  Cardio            Tennis   60.0   \n",
       "225  2024-03-24  Cardio            Tennis   60.0   \n",
       "226  2024-03-25  Cardio   Vélo Elliptique   30.0   \n",
       "311  2024-04-19  Cardio  Course sur Tapis    7.2   \n",
       "337  2024-04-27  Cardio   Vélo Elliptique   25.0   \n",
       "338         NaN  Cardio   Cross Trainning    NaN   \n",
       "374  2024-02-05  Cardio   Cross Trainning   60.0   \n",
       "457  2024-05-13  Cardio   Vélo Elliptique   30.0   \n",
       "466  2024-05-13  Cardio   Vélo Elliptique   10.0   \n",
       "467  2024-05-13  Cardio   Cross Trainning   60.0   \n",
       "487  2024-05-15  Cardio            Tennis   60.0   \n",
       "507  2024-05-18  Cardio   Cross Trainning   60.0   \n",
       "554  2024-05-21  Cardio  Course sur Tapis    NaN   \n",
       "569  2024-05-21  Cardio            Tennis   60.0   \n",
       "570  2024-05-21  Cardio   Cross Trainning   60.0   \n",
       "571  2024-05-22  Cardio   Vélo Elliptique   30.0   \n",
       "594  2024-05-23  Cardio            Tennis   60.0   \n",
       "\n",
       "                                           Commentaire   id  \n",
       "26                                                 NaN   26  \n",
       "27                                                 NaN   27  \n",
       "28                                                 NaN   28  \n",
       "95   20 pompes \\n20 ballons mur en équilibres \\n12 ...   95  \n",
       "143                                                NaN  143  \n",
       "159                                                NaN  159  \n",
       "160  Pompes\\nEpaules\\nAbdo allongée jambes levée \\n...  160  \n",
       "188                                                NaN  188  \n",
       "225                                                NaN  225  \n",
       "226        intensité 13 calorie 381 distances 2,72 km   226  \n",
       "311                                        Intensité 8  311  \n",
       "337                                                NaN  337  \n",
       "338  Séance de Cardio : \\n Pompes \\n Squat 15kg x15...  338  \n",
       "374                                                NaN  374  \n",
       "457                                                NaN  457  \n",
       "466                                                NaN  466  \n",
       "467                                                NaN  467  \n",
       "487                                                NaN  487  \n",
       "507                                                NaN  507  \n",
       "554                                                NaN  554  \n",
       "569                                                NaN  569  \n",
       "570                                                NaN  570  \n",
       "571                                                NaN  571  \n",
       "594                                                NaN  594  "
      ]
     },
     "execution_count": 60,
     "metadata": {},
     "output_type": "execute_result"
    }
   ],
   "source": [
    "df_sport.drop([\"Séance\",\"poid\",\"Nbr_de_repetitions\"], axis=1)"
   ]
  },
  {
   "cell_type": "code",
   "execution_count": 61,
   "metadata": {},
   "outputs": [
    {
     "data": {
      "text/plain": [
       "24"
      ]
     },
     "execution_count": 61,
     "metadata": {},
     "output_type": "execute_result"
    }
   ],
   "source": [
    "connection_string = f\"postgresql+psycopg2://{USER}:{PASSWORD}@{HOST}:{PORT}/{DATABASE}\"\n",
    "engine = create_engine(connection_string)\n",
    "\n",
    "table_name =\"sport_rows\"\n",
    "df_sport.to_sql(table_name, engine, if_exists='replace', index=False)\n"
   ]
  },
  {
   "cell_type": "markdown",
   "metadata": {},
   "source": [
    "## Remplissage de la table  sport_exercices "
   ]
  },
  {
   "cell_type": "code",
   "execution_count": 63,
   "metadata": {},
   "outputs": [],
   "source": [
    "df_sport = df.loc[df[\"Sport\"]!=\"Musculation\"]"
   ]
  },
  {
   "cell_type": "code",
   "execution_count": 65,
   "metadata": {},
   "outputs": [],
   "source": [
    "df_sport = df_sport[[\"id\",\"Exercice\"]]"
   ]
  },
  {
   "cell_type": "code",
   "execution_count": 68,
   "metadata": {},
   "outputs": [],
   "source": [
    "df_sport = df_sport.rename({\"id\":\"id\",\"Exercice\":\"name\"},axis=1)"
   ]
  },
  {
   "cell_type": "code",
   "execution_count": 70,
   "metadata": {},
   "outputs": [],
   "source": [
    "df_sport = df_sport.drop_duplicates(subset='name')"
   ]
  },
  {
   "cell_type": "code",
   "execution_count": 72,
   "metadata": {},
   "outputs": [],
   "source": [
    "df_sport = df_sport.dropna()"
   ]
  },
  {
   "cell_type": "code",
   "execution_count": 73,
   "metadata": {},
   "outputs": [
    {
     "data": {
      "text/html": [
       "<div>\n",
       "<style scoped>\n",
       "    .dataframe tbody tr th:only-of-type {\n",
       "        vertical-align: middle;\n",
       "    }\n",
       "\n",
       "    .dataframe tbody tr th {\n",
       "        vertical-align: top;\n",
       "    }\n",
       "\n",
       "    .dataframe thead th {\n",
       "        text-align: right;\n",
       "    }\n",
       "</style>\n",
       "<table border=\"1\" class=\"dataframe\">\n",
       "  <thead>\n",
       "    <tr style=\"text-align: right;\">\n",
       "      <th></th>\n",
       "      <th>id</th>\n",
       "      <th>name</th>\n",
       "    </tr>\n",
       "  </thead>\n",
       "  <tbody>\n",
       "    <tr>\n",
       "      <th>26</th>\n",
       "      <td>26</td>\n",
       "      <td>Vélo Elliptique</td>\n",
       "    </tr>\n",
       "    <tr>\n",
       "      <th>27</th>\n",
       "      <td>27</td>\n",
       "      <td>Cross Trainning</td>\n",
       "    </tr>\n",
       "    <tr>\n",
       "      <th>28</th>\n",
       "      <td>28</td>\n",
       "      <td>Tennis</td>\n",
       "    </tr>\n",
       "    <tr>\n",
       "      <th>311</th>\n",
       "      <td>311</td>\n",
       "      <td>Course sur Tapis</td>\n",
       "    </tr>\n",
       "  </tbody>\n",
       "</table>\n",
       "</div>"
      ],
      "text/plain": [
       "      id              name\n",
       "26    26   Vélo Elliptique\n",
       "27    27   Cross Trainning\n",
       "28    28            Tennis\n",
       "311  311  Course sur Tapis"
      ]
     },
     "execution_count": 73,
     "metadata": {},
     "output_type": "execute_result"
    }
   ],
   "source": [
    "df_sport"
   ]
  },
  {
   "cell_type": "code",
   "execution_count": 74,
   "metadata": {},
   "outputs": [
    {
     "data": {
      "text/plain": [
       "4"
      ]
     },
     "execution_count": 74,
     "metadata": {},
     "output_type": "execute_result"
    }
   ],
   "source": [
    "connection_string = f\"postgresql+psycopg2://{USER}:{PASSWORD}@{HOST}:{PORT}/{DATABASE}\"\n",
    "engine = create_engine(connection_string)\n",
    "\n",
    "table_name =\"sport_exercices\"\n",
    "df_sport.to_sql(table_name, engine, if_exists='replace', index=False)\n"
   ]
  },
  {
   "cell_type": "code",
   "execution_count": null,
   "metadata": {},
   "outputs": [],
   "source": []
  }
 ],
 "metadata": {
  "kernelspec": {
   "display_name": "venv",
   "language": "python",
   "name": "python3"
  },
  "language_info": {
   "codemirror_mode": {
    "name": "ipython",
    "version": 3
   },
   "file_extension": ".py",
   "mimetype": "text/x-python",
   "name": "python",
   "nbconvert_exporter": "python",
   "pygments_lexer": "ipython3",
   "version": "3.8.19"
  }
 },
 "nbformat": 4,
 "nbformat_minor": 2
}
