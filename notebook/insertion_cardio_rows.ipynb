{
 "cells": [
  {
   "cell_type": "code",
   "execution_count": 2,
   "metadata": {},
   "outputs": [],
   "source": [
    "import pandas as pd \n",
    "import numpy as np\n",
    "from sqlalchemy import create_engine\n",
    "import psycopg2\n",
    "import os\n",
    "\n",
    "from dotenv import load_dotenv"
   ]
  },
  {
   "cell_type": "code",
   "execution_count": 3,
   "metadata": {},
   "outputs": [],
   "source": [
    "load_dotenv()\n",
    "\n",
    "def create_connection():\n",
    "    \n",
    "    DATABASE = os.getenv(\"DATABASE\")\n",
    "    HOST = os.getenv(\"HOST\")  \n",
    "    USER = os.getenv(\"USER\")\n",
    "    PASSWORD = os.getenv(\"PASSWORD\")\n",
    "    PORT = os.getenv(\"PORT\")\n",
    "    \n",
    "    connection = psycopg2.connect(\n",
    "        host=HOST, \n",
    "        database=DATABASE, \n",
    "        user=USER, \n",
    "        password=PASSWORD,\n",
    "        port=PORT\n",
    "    )\n",
    "    \n",
    "    return connection"
   ]
  },
  {
   "cell_type": "code",
   "execution_count": 6,
   "metadata": {},
   "outputs": [],
   "source": [
    "from matplotlib.backend_bases import cursors\n",
    "\n",
    "\n",
    "sql = \"\"\"SELECT * \n",
    "        FROM sport_rows\"\"\" \n",
    "\n",
    "connection = create_connection()\n",
    "cursor = connection.cursor()\n",
    "cursor.execute(sql)\n",
    "data = cursor.fetchall()"
   ]
  },
  {
   "cell_type": "code",
   "execution_count": 7,
   "metadata": {},
   "outputs": [],
   "source": [
    "df = pd.DataFrame(data=data, columns=[\"date_seance\",\"sport\",\"exercice\",\"duree\",\"commentaire\",\"id\",\"user_id\"])"
   ]
  },
  {
   "cell_type": "code",
   "execution_count": 8,
   "metadata": {},
   "outputs": [
    {
     "data": {
      "text/html": [
       "<div>\n",
       "<style scoped>\n",
       "    .dataframe tbody tr th:only-of-type {\n",
       "        vertical-align: middle;\n",
       "    }\n",
       "\n",
       "    .dataframe tbody tr th {\n",
       "        vertical-align: top;\n",
       "    }\n",
       "\n",
       "    .dataframe thead th {\n",
       "        text-align: right;\n",
       "    }\n",
       "</style>\n",
       "<table border=\"1\" class=\"dataframe\">\n",
       "  <thead>\n",
       "    <tr style=\"text-align: right;\">\n",
       "      <th></th>\n",
       "      <th>date_seance</th>\n",
       "      <th>sport</th>\n",
       "      <th>exercice</th>\n",
       "      <th>duree</th>\n",
       "      <th>commentaire</th>\n",
       "      <th>id</th>\n",
       "      <th>user_id</th>\n",
       "    </tr>\n",
       "  </thead>\n",
       "  <tbody>\n",
       "    <tr>\n",
       "      <th>0</th>\n",
       "      <td>2024-02-24</td>\n",
       "      <td>Cardio</td>\n",
       "      <td>Vélo Elliptique</td>\n",
       "      <td>30.0</td>\n",
       "      <td>None</td>\n",
       "      <td>26</td>\n",
       "      <td>19</td>\n",
       "    </tr>\n",
       "    <tr>\n",
       "      <th>1</th>\n",
       "      <td>2024-02-24</td>\n",
       "      <td>Cardio</td>\n",
       "      <td>Cross Trainning</td>\n",
       "      <td>30.0</td>\n",
       "      <td>None</td>\n",
       "      <td>27</td>\n",
       "      <td>19</td>\n",
       "    </tr>\n",
       "    <tr>\n",
       "      <th>2</th>\n",
       "      <td>2024-02-24</td>\n",
       "      <td>Cardio</td>\n",
       "      <td>Tennis</td>\n",
       "      <td>60.0</td>\n",
       "      <td>None</td>\n",
       "      <td>28</td>\n",
       "      <td>19</td>\n",
       "    </tr>\n",
       "    <tr>\n",
       "      <th>3</th>\n",
       "      <td>2024-02-03</td>\n",
       "      <td>Cardio</td>\n",
       "      <td>Cross Trainning</td>\n",
       "      <td>NaN</td>\n",
       "      <td>20 pompes \\n20 ballons mur en équilibres \\n12 ...</td>\n",
       "      <td>95</td>\n",
       "      <td>19</td>\n",
       "    </tr>\n",
       "    <tr>\n",
       "      <th>4</th>\n",
       "      <td>2024-04-03</td>\n",
       "      <td>Cardio</td>\n",
       "      <td>Tennis</td>\n",
       "      <td>60.0</td>\n",
       "      <td>None</td>\n",
       "      <td>143</td>\n",
       "      <td>19</td>\n",
       "    </tr>\n",
       "  </tbody>\n",
       "</table>\n",
       "</div>"
      ],
      "text/plain": [
       "  date_seance   sport         exercice  duree  \\\n",
       "0  2024-02-24  Cardio  Vélo Elliptique   30.0   \n",
       "1  2024-02-24  Cardio  Cross Trainning   30.0   \n",
       "2  2024-02-24  Cardio           Tennis   60.0   \n",
       "3  2024-02-03  Cardio  Cross Trainning    NaN   \n",
       "4  2024-04-03  Cardio           Tennis   60.0   \n",
       "\n",
       "                                         commentaire   id  user_id  \n",
       "0                                               None   26       19  \n",
       "1                                               None   27       19  \n",
       "2                                               None   28       19  \n",
       "3  20 pompes \\n20 ballons mur en équilibres \\n12 ...   95       19  \n",
       "4                                               None  143       19  "
      ]
     },
     "execution_count": 8,
     "metadata": {},
     "output_type": "execute_result"
    }
   ],
   "source": [
    "df.head()"
   ]
  },
  {
   "cell_type": "code",
   "execution_count": 11,
   "metadata": {},
   "outputs": [
    {
     "data": {
      "text/plain": [
       "0    2024-02-24\n",
       "1    2024-02-24\n",
       "2    2024-02-24\n",
       "3    2024-02-03\n",
       "4    2024-04-03\n",
       "5    2024-07-03\n",
       "6    2024-07-03\n",
       "7    2024-10-03\n",
       "8    2024-03-24\n",
       "9    2024-03-25\n",
       "10   2024-04-19\n",
       "11   2024-04-27\n",
       "12          NaT\n",
       "13   2024-02-05\n",
       "14   2024-05-13\n",
       "15   2024-05-13\n",
       "16   2024-05-13\n",
       "17   2024-05-15\n",
       "18   2024-05-18\n",
       "19   2024-05-21\n",
       "20   2024-05-21\n",
       "21   2024-05-21\n",
       "22   2024-05-22\n",
       "23   2024-05-23\n",
       "24   2024-05-27\n",
       "25   2024-05-29\n",
       "26   2024-06-03\n",
       "27   2024-06-06\n",
       "28   2024-06-09\n",
       "29   2024-06-12\n",
       "30   2024-06-13\n",
       "31   2024-06-24\n",
       "32   2024-06-29\n",
       "33   2024-06-29\n",
       "34   2024-06-30\n",
       "35   2024-07-01\n",
       "36   2024-07-02\n",
       "37   2024-07-03\n",
       "Name: date_seance, dtype: datetime64[ns]"
      ]
     },
     "execution_count": 11,
     "metadata": {},
     "output_type": "execute_result"
    }
   ],
   "source": [
    "df[\"date_seance\"] =  pd.to_datetime(df[\"date_seance\"])\n",
    "df[\"date_seance\"]"
   ]
  },
  {
   "cell_type": "code",
   "execution_count": 12,
   "metadata": {},
   "outputs": [],
   "source": [
    "df.to_csv(\"../datas/cardio_exercices.csv\")"
   ]
  },
  {
   "cell_type": "code",
   "execution_count": null,
   "metadata": {},
   "outputs": [],
   "source": []
  }
 ],
 "metadata": {
  "kernelspec": {
   "display_name": "venv",
   "language": "python",
   "name": "python3"
  },
  "language_info": {
   "codemirror_mode": {
    "name": "ipython",
    "version": 3
   },
   "file_extension": ".py",
   "mimetype": "text/x-python",
   "name": "python",
   "nbconvert_exporter": "python",
   "pygments_lexer": "ipython3",
   "version": "3.12.5"
  }
 },
 "nbformat": 4,
 "nbformat_minor": 2
}
